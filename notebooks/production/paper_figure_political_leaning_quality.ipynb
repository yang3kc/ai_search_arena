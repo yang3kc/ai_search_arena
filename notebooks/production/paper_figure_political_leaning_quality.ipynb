{
 "cells": [
  {
   "cell_type": "code",
   "execution_count": 1,
   "id": "4bf29d5f-92ff-4c78-9cff-250437303b43",
   "metadata": {},
   "outputs": [],
   "source": [
    "import pandas as pd\n",
    "import matplotlib.pyplot as plt\n",
    "\n",
    "plt.rcParams.update({\"font.size\": 14})\n",
    "plt.rcParams.update({\"axes.axisbelow\": True})\n",
    "from scipy.stats import ks_2samp"
   ]
  },
  {
   "cell_type": "code",
   "execution_count": 2,
   "id": "f9084e7c-7421-435e-99b4-6fbe8a01e32c",
   "metadata": {},
   "outputs": [],
   "source": [
    "news_citations_df = pd.read_parquet(\n",
    "    \"../../data/intermediate/citation_analysis/news_citations.parquet\"\n",
    ")"
   ]
  },
  {
   "cell_type": "code",
   "execution_count": 3,
   "id": "ef63ea43-f972-4355-848d-71b78a443c2f",
   "metadata": {},
   "outputs": [
    {
     "data": {
      "text/plain": [
       "32865"
      ]
     },
     "execution_count": 3,
     "metadata": {},
     "output_type": "execute_result"
    }
   ],
   "source": [
    "len(news_citations_df)"
   ]
  },
  {
   "cell_type": "code",
   "execution_count": 16,
   "id": "9bb14752-2328-4283-8ab4-3bf7bcd4ad84",
   "metadata": {},
   "outputs": [],
   "source": [
    "news_citations_df_leaning = news_citations_df[\n",
    "    news_citations_df.political_leaning_score.notna()\n",
    "]\n",
    "news_citations_df_quality = news_citations_df[\n",
    "    news_citations_df.domain_quality_score.notna()\n",
    "]"
   ]
  },
  {
   "cell_type": "code",
   "execution_count": 5,
   "id": "3e21144d-d886-40e8-97a3-d451fe6c3c3a",
   "metadata": {},
   "outputs": [
    {
     "data": {
      "text/plain": [
       "32405"
      ]
     },
     "execution_count": 5,
     "metadata": {},
     "output_type": "execute_result"
    }
   ],
   "source": [
    "len(news_citations_df_leaning)"
   ]
  },
  {
   "cell_type": "code",
   "execution_count": 17,
   "id": "70b33708-7e76-4f39-9d79-e8ca5d23c01a",
   "metadata": {},
   "outputs": [
    {
     "data": {
      "text/plain": [
       "26540"
      ]
     },
     "execution_count": 17,
     "metadata": {},
     "output_type": "execute_result"
    }
   ],
   "source": [
    "len(news_citations_df_quality)"
   ]
  },
  {
   "cell_type": "code",
   "execution_count": 18,
   "id": "8b3edecd-2a7b-4e2e-a5b3-2a79124b4c04",
   "metadata": {},
   "outputs": [],
   "source": [
    "provider_colors = {\n",
    "    \"gpt\": \"#2E3440\",\n",
    "    \"gemini\": \"#B66A97\",\n",
    "    \"perplexity\": \"#20808D\",\n",
    "}\n",
    "\n",
    "provider_names = {\n",
    "    \"gpt\": \"OpenAI\",\n",
    "    \"perplexity\": \"Perplexity\",\n",
    "    \"gemini\": \"Google\",\n",
    "}\n",
    "\n",
    "providers = [\"gpt\", \"perplexity\", \"gemini\"]"
   ]
  },
  {
   "cell_type": "code",
   "execution_count": 7,
   "id": "0c2a11ec-3373-4c82-870f-e1dd30c6041c",
   "metadata": {},
   "outputs": [],
   "source": [
    "family_data = news_citations_df_leaning[\n",
    "    news_citations_df_leaning[\"model_family\"] == \"perplexity\"\n",
    "]"
   ]
  },
  {
   "cell_type": "code",
   "execution_count": 8,
   "id": "b871c79f-ffb3-4ebd-a963-e9d5d9169d1c",
   "metadata": {},
   "outputs": [
    {
     "data": {
      "text/plain": [
       "0.01194014553653787"
      ]
     },
     "execution_count": 8,
     "metadata": {},
     "output_type": "execute_result"
    }
   ],
   "source": [
    "len(family_data.query(\"political_leaning_score > 0.33\")) / len(family_data)"
   ]
  },
  {
   "cell_type": "code",
   "execution_count": 9,
   "id": "21650ff0-5bc4-40ab-bfae-520053fdbceb",
   "metadata": {},
   "outputs": [
    {
     "data": {
      "text/plain": [
       "{'center_leaning': np.float64(0.7519216972430051),\n",
       " 'left_leaning': np.float64(0.2361381572204571),\n",
       " 'right_leaning': np.float64(0.01194014553653787)}"
      ]
     },
     "execution_count": 9,
     "metadata": {},
     "output_type": "execute_result"
    }
   ],
   "source": [
    "dict(family_data.political_leaning.value_counts(normalize=True))"
   ]
  },
  {
   "cell_type": "code",
   "execution_count": 10,
   "id": "cd2f10a0-1077-48a3-b4a4-dad409c6f823",
   "metadata": {},
   "outputs": [
    {
     "name": "stdout",
     "output_type": "stream",
     "text": [
      "Leaning Score Distribution Summary:\n",
      "==================================================\n",
      "GPT:\n",
      "  Citations with leaning scores: 7,572\n",
      "  Mean leaning score: -0.237\n",
      "  Median leaning score: -0.224\n",
      "  Std deviation: 0.129\n",
      "left_leaning 14.5%\n",
      "center_leaning 85.2%\n",
      "right_leaning 0.3%\n",
      "PERPLEXITY:\n",
      "  Citations with leaning scores: 19,514\n",
      "  Mean leaning score: -0.215\n",
      "  Median leaning score: -0.217\n",
      "  Std deviation: 0.192\n",
      "left_leaning 23.6%\n",
      "center_leaning 75.2%\n",
      "right_leaning 1.2%\n",
      "GEMINI:\n",
      "  Citations with leaning scores: 5,319\n",
      "  Mean leaning score: -0.225\n",
      "  Median leaning score: -0.209\n",
      "  Std deviation: 0.181\n",
      "left_leaning 26.3%\n",
      "center_leaning 72.8%\n",
      "right_leaning 0.8%\n"
     ]
    }
   ],
   "source": [
    "# Print summary statistics\n",
    "print(\"Leaning Score Distribution Summary:\")\n",
    "print(\"=\" * 50)\n",
    "leaning_pct = {}\n",
    "for family in providers:\n",
    "    family_data = news_citations_df_leaning[\n",
    "        news_citations_df_leaning[\"model_family\"] == family\n",
    "    ]\n",
    "    mean_score = family_data[\"political_leaning_score\"].mean()\n",
    "    median_score = family_data[\"political_leaning_score\"].median()\n",
    "    std_score = family_data[\"political_leaning_score\"].std()\n",
    "    leaning_pct[family] = dict(\n",
    "        family_data.political_leaning.value_counts(normalize=True)\n",
    "    )\n",
    "    total = len(family_data)\n",
    "\n",
    "    print(f\"{family.upper()}:\")\n",
    "    print(f\"  Citations with leaning scores: {total:,}\")\n",
    "    print(f\"  Mean leaning score: {mean_score:.3f}\")\n",
    "    print(f\"  Median leaning score: {median_score:.3f}\")\n",
    "    print(f\"  Std deviation: {std_score:.3f}\")\n",
    "    for leaning in [\"left_leaning\", \"center_leaning\", \"right_leaning\"]:\n",
    "        print(leaning, f\"{leaning_pct[family][leaning] * 100:.1f}%\")"
   ]
  },
  {
   "cell_type": "code",
   "execution_count": 19,
   "id": "fc7ae277-5a1c-410d-b77e-bbe0106f36b4",
   "metadata": {},
   "outputs": [
    {
     "name": "stdout",
     "output_type": "stream",
     "text": [
      "Quality Score Distribution Summary:\n",
      "==================================================\n",
      "GPT:\n",
      "  Citations with quality scores: 6,772\n",
      "  Mean quality score: 0.872\n",
      "  Median quality score: 0.910\n",
      "  Std deviation: 0.154\n",
      "  Above threshold (>0.5): 6,516 (96.2%)\n",
      "\n",
      "PERPLEXITY:\n",
      "  Citations with quality scores: 15,519\n",
      "  Mean quality score: 0.757\n",
      "  Median quality score: 0.805\n",
      "  Std deviation: 0.156\n",
      "  Above threshold (>0.5): 14,311 (92.2%)\n",
      "\n",
      "GEMINI:\n",
      "  Citations with quality scores: 4,249\n",
      "  Mean quality score: 0.729\n",
      "  Median quality score: 0.768\n",
      "  Std deviation: 0.160\n",
      "  Above threshold (>0.5): 3,813 (89.7%)\n",
      "\n"
     ]
    }
   ],
   "source": [
    "# Print summary statistics\n",
    "print(\"Quality Score Distribution Summary:\")\n",
    "print(\"=\" * 50)\n",
    "high_quality_pct = {}\n",
    "for family in providers:\n",
    "    family_data = news_citations_df_quality[\n",
    "        news_citations_df_quality[\"model_family\"] == family\n",
    "    ]\n",
    "    mean_score = family_data[\"domain_quality_score\"].mean()\n",
    "    median_score = family_data[\"domain_quality_score\"].median()\n",
    "    std_score = family_data[\"domain_quality_score\"].std()\n",
    "    above_half = (family_data[\"domain_quality_score\"] > 0.5).sum()\n",
    "    total = len(family_data)\n",
    "\n",
    "    high_quality_pct[family] = above_half / total * 100\n",
    "\n",
    "    print(f\"{family.upper()}:\")\n",
    "    print(f\"  Citations with quality scores: {total:,}\")\n",
    "    print(f\"  Mean quality score: {mean_score:.3f}\")\n",
    "    print(f\"  Median quality score: {median_score:.3f}\")\n",
    "    print(f\"  Std deviation: {std_score:.3f}\")\n",
    "    print(f\"  Above threshold (>0.5): {above_half:,} ({above_half / total * 100:.1f}%)\")\n",
    "    print()"
   ]
  },
  {
   "cell_type": "code",
   "execution_count": 20,
   "id": "5a8e01a8-ae1e-4155-9ad3-d9bdc5044772",
   "metadata": {},
   "outputs": [
    {
     "name": "stdout",
     "output_type": "stream",
     "text": [
      "Cross family leaning stats tests\n",
      "gpt perplexity 0.26117961498756814 0.0\n",
      "gpt gemini 0.3021278114012232 3.45358974045737e-252\n",
      "perplexity gpt 0.26117961498756814 0.0\n",
      "perplexity gemini 0.0523077101831701 2.2202491788314795e-10\n",
      "gemini gpt 0.3021278114012232 3.45358974045737e-252\n",
      "gemini perplexity 0.0523077101831701 2.2202491788314795e-10\n"
     ]
    }
   ],
   "source": [
    "print(\"Cross family leaning stats tests\")\n",
    "for family_1 in providers:\n",
    "    for family_2 in providers:\n",
    "        if family_1 != family_2:\n",
    "            family_1_data = news_citations_df_leaning[\n",
    "                news_citations_df_leaning[\"model_family\"] == family_1\n",
    "            ]\n",
    "            family_2_data = news_citations_df_leaning[\n",
    "                news_citations_df_leaning[\"model_family\"] == family_2\n",
    "            ]\n",
    "            stats, p = ks_2samp(\n",
    "                family_1_data.political_leaning_score,\n",
    "                family_2_data.political_leaning_score,\n",
    "            )\n",
    "            print(family_1, family_2, stats, p)"
   ]
  },
  {
   "cell_type": "code",
   "execution_count": 21,
   "id": "e693cf23-1ce2-4c55-8c25-bbc9dd3b3264",
   "metadata": {},
   "outputs": [
    {
     "name": "stdout",
     "output_type": "stream",
     "text": [
      "Cross family quality stats tests\n",
      "gpt perplexity 0.455376346971285 0.0\n",
      "gpt gemini 0.49366606812179287 3.444e-321\n",
      "perplexity gpt 0.455376346971285 0.0\n",
      "perplexity gemini 0.14475076679667676 1.8364713794028036e-61\n",
      "gemini gpt 0.49366606812179287 3.444e-321\n",
      "gemini perplexity 0.14475076679667676 1.8364713794028036e-61\n"
     ]
    }
   ],
   "source": [
    "print(\"Cross family quality stats tests\")\n",
    "for family_1 in providers:\n",
    "    for family_2 in providers:\n",
    "        if family_1 != family_2:\n",
    "            family_1_data = news_citations_df_quality[\n",
    "                news_citations_df_quality[\"model_family\"] == family_1\n",
    "            ]\n",
    "            family_2_data = news_citations_df_quality[\n",
    "                news_citations_df_quality[\"model_family\"] == family_2\n",
    "            ]\n",
    "            stats, p = ks_2samp(\n",
    "                family_1_data.domain_quality_score, family_2_data.domain_quality_score\n",
    "            )\n",
    "            print(family_1, family_2, stats, p)"
   ]
  },
  {
   "cell_type": "code",
   "execution_count": 115,
   "id": "a28012a0-2327-4160-b810-20464587ee06",
   "metadata": {},
   "outputs": [
    {
     "data": {
      "image/png": "[encoded data removed]",
      "text/plain": [
       "<Figure size 550x500 with 6 Axes>"
      ]
     },
     "metadata": {},
     "output_type": "display_data"
    }
   ],
   "source": [
    "# Create figure with subfigures for quality score distribution by model family\n",
    "fig = plt.figure(figsize=(5.5, 5))\n",
    "\n",
    "ylim = {\n",
    "    \"political_leaning_score\": {\n",
    "        \"gpt\": 12,\n",
    "        'perplexity': 4,\n",
    "        'gemini': 4\n",
    "    },\n",
    "    \"domain_quality_score\": {\n",
    "        \"gpt\": 25,\n",
    "        'perplexity': 7,\n",
    "        'gemini': 7\n",
    "    }\n",
    "}\n",
    "\n",
    "for fi, df, col in [\n",
    "    [1, news_citations_df_leaning, 'political_leaning_score'],\n",
    "     [2, news_citations_df_quality, 'domain_quality_score']\n",
    "    ]:\n",
    "    for i, family in enumerate(providers):\n",
    "        plt.subplot(3, 2, i*2 + fi)\n",
    "        # Filter data for this family with non-null quality scores\n",
    "        family_data = df[\n",
    "            df[\"model_family\"] == family\n",
    "        ]\n",
    "    \n",
    "        # Create histogram\n",
    "        plt.hist(\n",
    "            family_data[col],\n",
    "            bins=50,\n",
    "            alpha=0.9,\n",
    "            color=provider_colors[family],\n",
    "            edgecolor=\"black\",\n",
    "            linewidth=0.5,\n",
    "            density=True,\n",
    "        )\n",
    "        plt.ylim([0, ylim[col][family]])    \n",
    "        # Add vertical lines\n",
    "        if col == \"political_leaning_score\":\n",
    "            plt.axvline(x=-0.33, color=\"gray\", linestyle=\"--\", linewidth=2, alpha=0.8)\n",
    "            plt.axvline(x=0.33, color=\"gray\", linestyle=\"--\", linewidth=2, alpha=0.8)\n",
    "            xs = [-1, -0.5, 0, 0.5, 1]\n",
    "            plt.xlim([-1.01, 1.01])\n",
    "            if i == 2:\n",
    "                plt.xlabel(\"Political leaning score\")\n",
    "                plt.xticks(xs, xs)\n",
    "            else:\n",
    "                plt.xticks(xs, [])\n",
    "        else:\n",
    "            plt.axvline(x=0.5, color=\"gray\", linestyle=\"--\", linewidth=2, alpha=0.8)\n",
    "            xs = [0, 0.2, 0.4, 0.6, 0.8, 1.0]\n",
    "            plt.xlim([-0.01, 1.01])\n",
    "            if i == 2:\n",
    "                plt.xlabel(\"Quality score\")\n",
    "                plt.xticks(xs, xs)\n",
    "            else:\n",
    "                plt.xticks(xs, [])\n",
    "\n",
    "        if fi == 1:\n",
    "            plt.ylabel(provider_names[family])\n",
    "        plt.yticks([], [])\n",
    "\n",
    "        pct_y = 0.86\n",
    "        if col == \"political_leaning_score\":\n",
    "            for x, y, text, alignment in [\n",
    "                [0.30, pct_y, f\"{leaning_pct[family]['left_leaning'] * 100:.1f}%\", 'right'],\n",
    "                [0.37, pct_y, f\"{leaning_pct[family]['center_leaning'] * 100:.1f}%\", 'left'],\n",
    "                [0.75, pct_y, f\"{leaning_pct[family]['right_leaning'] * 100:.1f}%\", 'left'],\n",
    "            ]:\n",
    "                plt.text(x, y, text, transform=plt.gca().transAxes, fontsize=12, horizontalalignment=alignment,)\n",
    "            plt.text(0.01, 0.05, f\"({'abc'[i]})\", transform = plt.gca().transAxes)\n",
    "\n",
    "        if col == \"domain_quality_score\":\n",
    "            for x, y, text, alignment in [\n",
    "                [0.15, pct_y, f\"{100 - high_quality_pct[family]:.1f}%\", 'left'],\n",
    "                [0.65, pct_y, f\"{high_quality_pct[family]:.1f}%\", 'left'],\n",
    "            ]:\n",
    "                plt.text(x, y, text, transform=plt.gca().transAxes, fontsize=12, horizontalalignment=alignment,)\n",
    "            plt.text(0.01, 0.05, f\"({'def'[i]})\", transform = plt.gca().transAxes)\n",
    "plt.tight_layout(h_pad=0.15, w_pad=0.1)\n",
    "plt.savefig(\"../../data/output/citation_analysis/model_family_leaning_quality_distribution.pdf\")"
   ]
  },
  {
   "cell_type": "code",
   "execution_count": null,
   "id": "1a0c75d6-0d30-40f9-ae39-83bc0487e950",
   "metadata": {},
   "outputs": [],
   "source": []
  }
 ],
 "metadata": {
  "kernelspec": {
   "display_name": "Python 3 (ipykernel)",
   "language": "python",
   "name": "python3"
  },
  "language_info": {
   "codemirror_mode": {
    "name": "ipython",
    "version": 3
   },
   "file_extension": ".py",
   "mimetype": "text/x-python",
   "name": "python",
   "nbconvert_exporter": "python",
   "pygments_lexer": "ipython3",
   "version": "3.12.9"
  }
 },
 "nbformat": 4,
 "nbformat_minor": 5
}
