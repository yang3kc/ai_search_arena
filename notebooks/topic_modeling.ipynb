{
 "cells": [
  {
   "cell_type": "code",
   "execution_count": 42,
   "id": "335cdefb-dfe3-47b4-b9b5-d151b193d3ea",
   "metadata": {},
   "outputs": [],
   "source": [
    "from bertopic import BERTopic\n",
    "import pandas as pd\n",
    "from sentence_transformers import SentenceTransformer\n",
    "from umap import UMAP\n",
    "from hdbscan import HDBSCAN\n",
    "from sklearn.feature_extraction.text import CountVectorizer\n",
    "from bertopic.representation import KeyBERTInspired, MaximalMarginalRelevance, OpenAI, PartOfSpeech\n",
    "import openai"
   ]
  },
  {
   "cell_type": "code",
   "execution_count": null,
   "id": "2fa19cfd-18bb-4e55-8ada-c9a5c7565391",
   "metadata": {},
   "outputs": [],
   "source": []
  },
  {
   "cell_type": "code",
   "execution_count": 22,
   "id": "b2bb3555-ad57-40aa-aff3-dbf0b18f043b",
   "metadata": {},
   "outputs": [],
   "source": [
    "questions_embeddings_df = pd.read_parquet(\"../data/intermediate/question_analysis/question_embeddings.parquet\")"
   ]
  },
  {
   "cell_type": "code",
   "execution_count": 20,
   "id": "37ef684a-ac67-435c-b772-a762146481c3",
   "metadata": {},
   "outputs": [],
   "source": [
    "questions_df = pd.read_parquet(\"../data/intermediate/cleaned_arena_data/questions.parquet\")"
   ]
  },
  {
   "cell_type": "code",
   "execution_count": 28,
   "id": "1b720220-9deb-43f6-a150-597c9128870e",
   "metadata": {},
   "outputs": [],
   "source": [
    "questions_and_embedding_df = questions_embeddings_df.merge(questions_df[['question_id', 'user_query']], on='question_id')"
   ]
  },
  {
   "cell_type": "code",
   "execution_count": 29,
   "id": "462ffb2d-5df2-4c92-bc2f-3fb8cc1d41f9",
   "metadata": {},
   "outputs": [],
   "source": [
    "embedding_cols = [x for x in questions_and_embedding_df.columns if x.startswith(\"embedding_dim\")]"
   ]
  },
  {
   "cell_type": "code",
   "execution_count": 32,
   "id": "f7cb37ac-91aa-491b-8899-1c092f6e20d5",
   "metadata": {},
   "outputs": [],
   "source": [
    "embeddings = questions_and_embedding_df[embedding_cols].values\n",
    "queries = questions_and_embedding_df['user_query'].values"
   ]
  },
  {
   "cell_type": "code",
   "execution_count": 73,
   "id": "0cb13860-8deb-4a4b-9701-2c7937d82260",
   "metadata": {},
   "outputs": [],
   "source": [
    "# Pre-calculate embeddings\n",
    "embedding_model = SentenceTransformer(\"all-MiniLM-L6-v2\")\n",
    "umap_model = UMAP(n_neighbors=15, n_components=5, min_dist=0.0, metric='cosine', random_state=42)\n",
    "hdbscan_model = HDBSCAN(min_cluster_size=150, metric='euclidean', cluster_selection_method='eom', prediction_data=True)\n",
    "vectorizer_model = CountVectorizer(stop_words=\"english\", min_df=2, ngram_range=(1, 2))"
   ]
  },
  {
   "cell_type": "code",
   "execution_count": 94,
   "id": "79d5ea72-0710-4469-812c-03da52efefae",
   "metadata": {},
   "outputs": [],
   "source": [
    "prompt = \"\"\"\n",
    "I have a topic that contains the following documents:\n",
    "[DOCUMENTS]\n",
    "The topic is described by the following keywords: [KEYWORDS]\n",
    "\n",
    "Based on the information above, extract a short but highly descriptive topic label of at most 8 words. Make sure it is in the following format:\n",
    "topic: <topic label>\n",
    "\"\"\"\n",
    "client = openai.OpenAI()\n",
    "openai_model = OpenAI(client, model=\"gpt-4.1\", exponential_backoff=True, chat=True, prompt=prompt)"
   ]
  },
  {
   "cell_type": "code",
   "execution_count": 95,
   "id": "7878c25f-9945-48ff-ab4c-3098ab28830f",
   "metadata": {},
   "outputs": [],
   "source": [
    "keybert_model = KeyBERTInspired()\n",
    "mmr_model = MaximalMarginalRelevance(diversity=0.3)\n",
    "representation_model = {\n",
    "    \"KeyBERT\": keybert_model,\n",
    "    \"OpenAI\": openai_model,  # Uncomment if you will use OpenAI\n",
    "    \"MMR\": mmr_model,\n",
    "}"
   ]
  },
  {
   "cell_type": "code",
   "execution_count": 96,
   "id": "f65bdf80-e591-49cf-8e50-6d59486546e0",
   "metadata": {},
   "outputs": [],
   "source": [
    "topic_model = BERTopic(\n",
    "\n",
    "  # Pipeline models\n",
    "  embedding_model=embedding_model,\n",
    "  umap_model=umap_model,\n",
    "  hdbscan_model=hdbscan_model,\n",
    "  vectorizer_model=vectorizer_model,\n",
    "  representation_model=representation_model,\n",
    "\n",
    "  # Hyperparameters\n",
    "  top_n_words=10,\n",
    "  calculate_probabilities=True,\n",
    "  verbose=True\n",
    ")"
   ]
  },
  {
   "cell_type": "code",
   "execution_count": 97,
   "id": "25a4784a-9c6c-40ee-95fc-e6f42a4e0bc1",
   "metadata": {},
   "outputs": [
    {
     "name": "stderr",
     "output_type": "stream",
     "text": [
      "2025-07-03 23:18:18,555 - BERTopic - Dimensionality - Fitting the dimensionality reduction algorithm\n",
      "2025-07-03 23:18:24,835 - BERTopic - Dimensionality - Completed ✓\n",
      "2025-07-03 23:18:24,836 - BERTopic - Cluster - Start clustering the reduced embeddings\n",
      "2025-07-03 23:18:25,836 - BERTopic - Cluster - Completed ✓\n",
      "2025-07-03 23:18:25,838 - BERTopic - Representation - Fine-tuning topics using representation models.\n",
      "100%|███████████████████████████████████████████████████████████████████| 11/11 [00:06<00:00,  1.60it/s]\n",
      "2025-07-03 23:18:33,779 - BERTopic - Representation - Completed ✓\n"
     ]
    }
   ],
   "source": [
    "topics, probs = topic_model.fit_transform(queries, embeddings)"
   ]
  },
  {
   "cell_type": "code",
   "execution_count": 169,
   "id": "5f5aa96a-6be5-49c6-8f5c-304396ec1f1a",
   "metadata": {},
   "outputs": [
    {
     "data": {
      "text/plain": [
       "array([0.49861135, 0.54808982, 0.46392351, ..., 0.85211886, 0.84177638,\n",
       "       0.85857721], shape=(16200,))"
      ]
     },
     "execution_count": 169,
     "metadata": {},
     "output_type": "execute_result"
    }
   ],
   "source": [
    "probs.sum(axis=1)"
   ]
  },
  {
   "cell_type": "code",
   "execution_count": 98,
   "id": "e959c6ee-6cf0-405d-985e-9a191764dc8b",
   "metadata": {},
   "outputs": [],
   "source": [
    "topic_info = topic_model.get_topic_info()"
   ]
  },
  {
   "cell_type": "code",
   "execution_count": 99,
   "id": "ce311a09-9ebe-493c-9cc0-959e1dbff490",
   "metadata": {},
   "outputs": [
    {
     "data": {
      "text/html": [
       "<div>\n",
       "<style scoped>\n",
       "    .dataframe tbody tr th:only-of-type {\n",
       "        vertical-align: middle;\n",
       "    }\n",
       "\n",
       "    .dataframe tbody tr th {\n",
       "        vertical-align: top;\n",
       "    }\n",
       "\n",
       "    .dataframe thead th {\n",
       "        text-align: right;\n",
       "    }\n",
       "</style>\n",
       "<table border=\"1\" class=\"dataframe\">\n",
       "  <thead>\n",
       "    <tr style=\"text-align: right;\">\n",
       "      <th></th>\n",
       "      <th>Topic</th>\n",
       "      <th>Count</th>\n",
       "      <th>Name</th>\n",
       "      <th>Representation</th>\n",
       "      <th>KeyBERT</th>\n",
       "      <th>OpenAI</th>\n",
       "      <th>MMR</th>\n",
       "      <th>Representative_Docs</th>\n",
       "    </tr>\n",
       "  </thead>\n",
       "  <tbody>\n",
       "    <tr>\n",
       "      <th>0</th>\n",
       "      <td>-1</td>\n",
       "      <td>8817</td>\n",
       "      <td>-1_write_battle_use_https</td>\n",
       "      <td>[write, battle, use, https, com, make, like, c...</td>\n",
       "      <td>[ideas, whispers, style, write, template, sugg...</td>\n",
       "      <td>[Vintage Horror Story Idea Generation by Style]</td>\n",
       "      <td>[write, battle, like, characters, mario, list,...</td>\n",
       "      <td>[write 10 story ideas in style Charles Beaumon...</td>\n",
       "    </tr>\n",
       "    <tr>\n",
       "      <th>1</th>\n",
       "      <td>0</td>\n",
       "      <td>3499</td>\n",
       "      <td>0_ai_best_llm_use</td>\n",
       "      <td>[ai, best, llm, use, model, using, models, cod...</td>\n",
       "      <td>[ai, ai model, models, model, google, api, sea...</td>\n",
       "      <td>[Best Free AI Models and Their Uses]</td>\n",
       "      <td>[ai, llm, models, python, file, search, data, ...</td>\n",
       "      <td>[help me find the best AI models, and where to...</td>\n",
       "    </tr>\n",
       "    <tr>\n",
       "      <th>2</th>\n",
       "      <td>1</td>\n",
       "      <td>1091</td>\n",
       "      <td>1_price_stock_market_tariffs</td>\n",
       "      <td>[price, stock, market, tariffs, money, china, ...</td>\n",
       "      <td>[stock price, stock market, stock, stocks, mar...</td>\n",
       "      <td>[Stock Market Prices and Daily Volatility]</td>\n",
       "      <td>[market, tariffs, china, bank, trading, compan...</td>\n",
       "      <td>[How is the stock market today?, why was the s...</td>\n",
       "    </tr>\n",
       "    <tr>\n",
       "      <th>3</th>\n",
       "      <td>2</td>\n",
       "      <td>599</td>\n",
       "      <td>2_food_water_disease_does</td>\n",
       "      <td>[food, water, disease, does, effects, eat, pro...</td>\n",
       "      <td>[healthy, fat, diabetes, supplements, vegan, f...</td>\n",
       "      <td>[Nutrition Myths and Disease Risk Factors]</td>\n",
       "      <td>[water, disease, effects, protein, supplements...</td>\n",
       "      <td>[fact checking the claim :\\nif u don't eat ani...</td>\n",
       "    </tr>\n",
       "    <tr>\n",
       "      <th>4</th>\n",
       "      <td>3</td>\n",
       "      <td>463</td>\n",
       "      <td>3_news_latest news_latest_today</td>\n",
       "      <td>[news, latest news, latest, today, tell, news ...</td>\n",
       "      <td>[news latest, latest news, news today, today n...</td>\n",
       "      <td>[Latest World News and Events Today]</td>\n",
       "      <td>[news today, city, london, events, tel aviv, 2...</td>\n",
       "      <td>[what is the latest news, what is the latest n...</td>\n",
       "    </tr>\n",
       "    <tr>\n",
       "      <th>5</th>\n",
       "      <td>4</td>\n",
       "      <td>382</td>\n",
       "      <td>4_match_team_won_win</td>\n",
       "      <td>[match, team, won, win, final, 2025, outcome, ...</td>\n",
       "      <td>[matches, final, tournament, south america, te...</td>\n",
       "      <td>[Europe vs South America World Cup Finals]</td>\n",
       "      <td>[won, final, 2025, teams, league, europe, matc...</td>\n",
       "      <td>[Please find out for me and list all the FIFA ...</td>\n",
       "    </tr>\n",
       "    <tr>\n",
       "      <th>6</th>\n",
       "      <td>5</td>\n",
       "      <td>370</td>\n",
       "      <td>5_anime_tell_did_breaking</td>\n",
       "      <td>[anime, tell, did, breaking, artist, does, fam...</td>\n",
       "      <td>[software engineer, engineer, graduated, caree...</td>\n",
       "      <td>[Biographical Inquiries and Anomalous Media Do...</td>\n",
       "      <td>[anime, breaking, artist, famous, female, did ...</td>\n",
       "      <td>[Who is Andrei Topala software engineer that g...</td>\n",
       "    </tr>\n",
       "    <tr>\n",
       "      <th>7</th>\n",
       "      <td>6</td>\n",
       "      <td>364</td>\n",
       "      <td>6_vs_battles_style_eden</td>\n",
       "      <td>[vs, battles, style, eden, powers, personaliti...</td>\n",
       "      <td>[battle, battles, combat, strongest, vs, abili...</td>\n",
       "      <td>[Fictional Character Battle Analysis and Compa...</td>\n",
       "      <td>[vs, battles, eden, ap, abilities, speed, dc, ...</td>\n",
       "      <td>[vs battles appearances, personalities, simila...</td>\n",
       "    </tr>\n",
       "    <tr>\n",
       "      <th>8</th>\n",
       "      <td>7</td>\n",
       "      <td>222</td>\n",
       "      <td>7_book_orthodox_god_summary</td>\n",
       "      <td>[book, orthodox, god, summary, chapter, st, qu...</td>\n",
       "      <td>[book, chapter, chapters, summary, summary lat...</td>\n",
       "      <td>[Cross Creek Book Summary and Analysis]</td>\n",
       "      <td>[book, orthodox, cross, quotes, internet artic...</td>\n",
       "      <td>[What is the main argument of the book Cross C...</td>\n",
       "    </tr>\n",
       "    <tr>\n",
       "      <th>9</th>\n",
       "      <td>8</td>\n",
       "      <td>217</td>\n",
       "      <td>8_song_lyrics_irish_okey</td>\n",
       "      <td>[song, lyrics, irish, okey, songs, stop, music...</td>\n",
       "      <td>[lyrics, song, testimony, plead, songs, son, m...</td>\n",
       "      <td>[Identifying Songs from Provided Lyrics]</td>\n",
       "      <td>[song, lyrics, irish, okey, songs, testimony, ...</td>\n",
       "      <td>[What song do these lyrics come from\\n\"Residen...</td>\n",
       "    </tr>\n",
       "    <tr>\n",
       "      <th>10</th>\n",
       "      <td>9</td>\n",
       "      <td>176</td>\n",
       "      <td>9_sonic_tails_miles_like</td>\n",
       "      <td>[sonic, tails, miles, like, let, know, gets, f...</td>\n",
       "      <td>[tails, sonic, villain, spider, murderer, kill...</td>\n",
       "      <td>[Dark Villain Tails AU in Sonic Comics]</td>\n",
       "      <td>[sonic, tails, miles, fox, village, bird, hero...</td>\n",
       "      <td>[Okay so Tails in this comic (or Miles, as he'...</td>\n",
       "    </tr>\n",
       "  </tbody>\n",
       "</table>\n",
       "</div>"
      ],
      "text/plain": [
       "    Topic  Count                             Name  \\\n",
       "0      -1   8817        -1_write_battle_use_https   \n",
       "1       0   3499                0_ai_best_llm_use   \n",
       "2       1   1091     1_price_stock_market_tariffs   \n",
       "3       2    599        2_food_water_disease_does   \n",
       "4       3    463  3_news_latest news_latest_today   \n",
       "5       4    382             4_match_team_won_win   \n",
       "6       5    370        5_anime_tell_did_breaking   \n",
       "7       6    364          6_vs_battles_style_eden   \n",
       "8       7    222      7_book_orthodox_god_summary   \n",
       "9       8    217         8_song_lyrics_irish_okey   \n",
       "10      9    176         9_sonic_tails_miles_like   \n",
       "\n",
       "                                       Representation  \\\n",
       "0   [write, battle, use, https, com, make, like, c...   \n",
       "1   [ai, best, llm, use, model, using, models, cod...   \n",
       "2   [price, stock, market, tariffs, money, china, ...   \n",
       "3   [food, water, disease, does, effects, eat, pro...   \n",
       "4   [news, latest news, latest, today, tell, news ...   \n",
       "5   [match, team, won, win, final, 2025, outcome, ...   \n",
       "6   [anime, tell, did, breaking, artist, does, fam...   \n",
       "7   [vs, battles, style, eden, powers, personaliti...   \n",
       "8   [book, orthodox, god, summary, chapter, st, qu...   \n",
       "9   [song, lyrics, irish, okey, songs, stop, music...   \n",
       "10  [sonic, tails, miles, like, let, know, gets, f...   \n",
       "\n",
       "                                              KeyBERT  \\\n",
       "0   [ideas, whispers, style, write, template, sugg...   \n",
       "1   [ai, ai model, models, model, google, api, sea...   \n",
       "2   [stock price, stock market, stock, stocks, mar...   \n",
       "3   [healthy, fat, diabetes, supplements, vegan, f...   \n",
       "4   [news latest, latest news, news today, today n...   \n",
       "5   [matches, final, tournament, south america, te...   \n",
       "6   [software engineer, engineer, graduated, caree...   \n",
       "7   [battle, battles, combat, strongest, vs, abili...   \n",
       "8   [book, chapter, chapters, summary, summary lat...   \n",
       "9   [lyrics, song, testimony, plead, songs, son, m...   \n",
       "10  [tails, sonic, villain, spider, murderer, kill...   \n",
       "\n",
       "                                               OpenAI  \\\n",
       "0     [Vintage Horror Story Idea Generation by Style]   \n",
       "1                [Best Free AI Models and Their Uses]   \n",
       "2          [Stock Market Prices and Daily Volatility]   \n",
       "3          [Nutrition Myths and Disease Risk Factors]   \n",
       "4                [Latest World News and Events Today]   \n",
       "5          [Europe vs South America World Cup Finals]   \n",
       "6   [Biographical Inquiries and Anomalous Media Do...   \n",
       "7   [Fictional Character Battle Analysis and Compa...   \n",
       "8             [Cross Creek Book Summary and Analysis]   \n",
       "9            [Identifying Songs from Provided Lyrics]   \n",
       "10            [Dark Villain Tails AU in Sonic Comics]   \n",
       "\n",
       "                                                  MMR  \\\n",
       "0   [write, battle, like, characters, mario, list,...   \n",
       "1   [ai, llm, models, python, file, search, data, ...   \n",
       "2   [market, tariffs, china, bank, trading, compan...   \n",
       "3   [water, disease, effects, protein, supplements...   \n",
       "4   [news today, city, london, events, tel aviv, 2...   \n",
       "5   [won, final, 2025, teams, league, europe, matc...   \n",
       "6   [anime, breaking, artist, famous, female, did ...   \n",
       "7   [vs, battles, eden, ap, abilities, speed, dc, ...   \n",
       "8   [book, orthodox, cross, quotes, internet artic...   \n",
       "9   [song, lyrics, irish, okey, songs, testimony, ...   \n",
       "10  [sonic, tails, miles, fox, village, bird, hero...   \n",
       "\n",
       "                                  Representative_Docs  \n",
       "0   [write 10 story ideas in style Charles Beaumon...  \n",
       "1   [help me find the best AI models, and where to...  \n",
       "2   [How is the stock market today?, why was the s...  \n",
       "3   [fact checking the claim :\\nif u don't eat ani...  \n",
       "4   [what is the latest news, what is the latest n...  \n",
       "5   [Please find out for me and list all the FIFA ...  \n",
       "6   [Who is Andrei Topala software engineer that g...  \n",
       "7   [vs battles appearances, personalities, simila...  \n",
       "8   [What is the main argument of the book Cross C...  \n",
       "9   [What song do these lyrics come from\\n\"Residen...  \n",
       "10  [Okay so Tails in this comic (or Miles, as he'...  "
      ]
     },
     "execution_count": 99,
     "metadata": {},
     "output_type": "execute_result"
    }
   ],
   "source": [
    "topic_info"
   ]
  },
  {
   "cell_type": "code",
   "execution_count": 100,
   "id": "deb91864-a609-4bf3-9d20-5d15a9708d8a",
   "metadata": {},
   "outputs": [],
   "source": [
    "new_topics = topic_model.reduce_outliers(queries, topics, strategy='embeddings', embeddings=embeddings)"
   ]
  },
  {
   "cell_type": "code",
   "execution_count": 101,
   "id": "cc5b20f4-d0de-4eac-b085-9fe9488d1ce2",
   "metadata": {},
   "outputs": [
    {
     "data": {
      "text/plain": [
       " 0    5285\n",
       " 1    2019\n",
       " 3    1707\n",
       " 7    1629\n",
       " 5    1498\n",
       " 2    1231\n",
       " 6     980\n",
       " 4     729\n",
       " 8     620\n",
       " 9     498\n",
       "-1       4\n",
       "Name: count, dtype: int64"
      ]
     },
     "execution_count": 101,
     "metadata": {},
     "output_type": "execute_result"
    }
   ],
   "source": [
    "pd.Series(new_topics).value_counts()"
   ]
  },
  {
   "cell_type": "code",
   "execution_count": 102,
   "id": "baebbbe2-6cde-41a2-b90c-4a917fb511fc",
   "metadata": {},
   "outputs": [
    {
     "name": "stderr",
     "output_type": "stream",
     "text": [
      "2025-07-03 23:19:16,247 - BERTopic - WARNING: Using a custom list of topic assignments may lead to errors if topic reduction techniques are used afterwards. Make sure that manually assigning topics is the last step in the pipeline.Note that topic embeddings will also be created through weightedc-TF-IDF embeddings instead of centroid embeddings.\n"
     ]
    }
   ],
   "source": [
    "topic_model.update_topics(queries, topics=new_topics)"
   ]
  },
  {
   "cell_type": "code",
   "execution_count": 104,
   "id": "82f3cda3-229d-4041-befc-fb8f519a8ab5",
   "metadata": {},
   "outputs": [
    {
     "data": {
      "text/html": [
       "<div>\n",
       "<style scoped>\n",
       "    .dataframe tbody tr th:only-of-type {\n",
       "        vertical-align: middle;\n",
       "    }\n",
       "\n",
       "    .dataframe tbody tr th {\n",
       "        vertical-align: top;\n",
       "    }\n",
       "\n",
       "    .dataframe thead th {\n",
       "        text-align: right;\n",
       "    }\n",
       "</style>\n",
       "<table border=\"1\" class=\"dataframe\">\n",
       "  <thead>\n",
       "    <tr style=\"text-align: right;\">\n",
       "      <th></th>\n",
       "      <th>Topic</th>\n",
       "      <th>Count</th>\n",
       "      <th>Name</th>\n",
       "      <th>Representation</th>\n",
       "      <th>KeyBERT</th>\n",
       "      <th>OpenAI</th>\n",
       "      <th>MMR</th>\n",
       "      <th>Representative_Docs</th>\n",
       "    </tr>\n",
       "  </thead>\n",
       "  <tbody>\n",
       "    <tr>\n",
       "      <th>0</th>\n",
       "      <td>-1</td>\n",
       "      <td>4</td>\n",
       "      <td>-1_go_condenser_pressures_don</td>\n",
       "      <td>[go, condenser, pressures, don, cooled, operat...</td>\n",
       "      <td>[ideas, whispers, style, write, template, sugg...</td>\n",
       "      <td>[Vintage Horror Story Idea Generation by Style]</td>\n",
       "      <td>[write, battle, like, characters, mario, list,...</td>\n",
       "      <td>[write 10 story ideas in style Charles Beaumon...</td>\n",
       "    </tr>\n",
       "    <tr>\n",
       "      <th>1</th>\n",
       "      <td>0</td>\n",
       "      <td>5285</td>\n",
       "      <td>0_to_the_and_for</td>\n",
       "      <td>[to, the, and, for, is, in, what, of, it, that]</td>\n",
       "      <td>[ai, ai model, models, model, google, api, sea...</td>\n",
       "      <td>[Best Free AI Models and Their Uses]</td>\n",
       "      <td>[ai, llm, models, python, file, search, data, ...</td>\n",
       "      <td>[help me find the best AI models, and where to...</td>\n",
       "    </tr>\n",
       "    <tr>\n",
       "      <th>2</th>\n",
       "      <td>1</td>\n",
       "      <td>2019</td>\n",
       "      <td>1_the_to_of_in</td>\n",
       "      <td>[the, to, of, in, and, for, what, is, on, how]</td>\n",
       "      <td>[stock price, stock market, stock, stocks, mar...</td>\n",
       "      <td>[Stock Market Prices and Daily Volatility]</td>\n",
       "      <td>[market, tariffs, china, bank, trading, compan...</td>\n",
       "      <td>[How is the stock market today?, why was the s...</td>\n",
       "    </tr>\n",
       "    <tr>\n",
       "      <th>3</th>\n",
       "      <td>2</td>\n",
       "      <td>1231</td>\n",
       "      <td>2_the_of_to_and</td>\n",
       "      <td>[the, of, to, and, in, is, for, what, that, or]</td>\n",
       "      <td>[healthy, fat, diabetes, supplements, vegan, f...</td>\n",
       "      <td>[Nutrition Myths and Disease Risk Factors]</td>\n",
       "      <td>[water, disease, effects, protein, supplements...</td>\n",
       "      <td>[fact checking the claim :\\nif u don't eat ani...</td>\n",
       "    </tr>\n",
       "    <tr>\n",
       "      <th>4</th>\n",
       "      <td>3</td>\n",
       "      <td>1707</td>\n",
       "      <td>3_the_in_what_is</td>\n",
       "      <td>[the, in, what, is, and, of, news, to, me, on]</td>\n",
       "      <td>[news latest, latest news, news today, today n...</td>\n",
       "      <td>[Latest World News and Events Today]</td>\n",
       "      <td>[news today, city, london, events, tel aviv, 2...</td>\n",
       "      <td>[what is the latest news, what is the latest n...</td>\n",
       "    </tr>\n",
       "    <tr>\n",
       "      <th>5</th>\n",
       "      <td>4</td>\n",
       "      <td>729</td>\n",
       "      <td>4_the_match_in_team</td>\n",
       "      <td>[the, match, in, team, who, what, of, last, wo...</td>\n",
       "      <td>[matches, final, tournament, south america, te...</td>\n",
       "      <td>[Europe vs South America World Cup Finals]</td>\n",
       "      <td>[won, final, 2025, teams, league, europe, matc...</td>\n",
       "      <td>[Please find out for me and list all the FIFA ...</td>\n",
       "    </tr>\n",
       "    <tr>\n",
       "      <th>6</th>\n",
       "      <td>5</td>\n",
       "      <td>1498</td>\n",
       "      <td>5_who_is_the_of</td>\n",
       "      <td>[who, is, the, of, in, you, and, name, what, her]</td>\n",
       "      <td>[software engineer, engineer, graduated, caree...</td>\n",
       "      <td>[Biographical Inquiries and Anomalous Media Do...</td>\n",
       "      <td>[anime, breaking, artist, famous, female, did ...</td>\n",
       "      <td>[Who is Andrei Topala software engineer that g...</td>\n",
       "    </tr>\n",
       "    <tr>\n",
       "      <th>7</th>\n",
       "      <td>6</td>\n",
       "      <td>980</td>\n",
       "      <td>6_battle_the_characters_and</td>\n",
       "      <td>[battle, the, characters, and, in, of, vs, cha...</td>\n",
       "      <td>[battle, battles, combat, strongest, vs, abili...</td>\n",
       "      <td>[Fictional Character Battle Analysis and Compa...</td>\n",
       "      <td>[vs, battles, eden, ap, abilities, speed, dc, ...</td>\n",
       "      <td>[vs battles appearances, personalities, simila...</td>\n",
       "    </tr>\n",
       "    <tr>\n",
       "      <th>8</th>\n",
       "      <td>7</td>\n",
       "      <td>1629</td>\n",
       "      <td>7_the_of_write_and</td>\n",
       "      <td>[the, of, write, and, in, satirical, to, this,...</td>\n",
       "      <td>[book, chapter, chapters, summary, summary lat...</td>\n",
       "      <td>[Cross Creek Book Summary and Analysis]</td>\n",
       "      <td>[book, orthodox, cross, quotes, internet artic...</td>\n",
       "      <td>[What is the main argument of the book Cross C...</td>\n",
       "    </tr>\n",
       "    <tr>\n",
       "      <th>9</th>\n",
       "      <td>8</td>\n",
       "      <td>620</td>\n",
       "      <td>8_the_you_song_to</td>\n",
       "      <td>[the, you, song, to, youtube, and, it, of, in,...</td>\n",
       "      <td>[lyrics, song, testimony, plead, songs, son, m...</td>\n",
       "      <td>[Identifying Songs from Provided Lyrics]</td>\n",
       "      <td>[song, lyrics, irish, okey, songs, testimony, ...</td>\n",
       "      <td>[What song do these lyrics come from\\n\"Residen...</td>\n",
       "    </tr>\n",
       "    <tr>\n",
       "      <th>10</th>\n",
       "      <td>9</td>\n",
       "      <td>498</td>\n",
       "      <td>9_he_his_sonic_him</td>\n",
       "      <td>[he, his, sonic, him, the, and, to, tails, mar...</td>\n",
       "      <td>[tails, sonic, villain, spider, murderer, kill...</td>\n",
       "      <td>[Dark Villain Tails AU in Sonic Comics]</td>\n",
       "      <td>[sonic, tails, miles, fox, village, bird, hero...</td>\n",
       "      <td>[Okay so Tails in this comic (or Miles, as he'...</td>\n",
       "    </tr>\n",
       "  </tbody>\n",
       "</table>\n",
       "</div>"
      ],
      "text/plain": [
       "    Topic  Count                           Name  \\\n",
       "0      -1      4  -1_go_condenser_pressures_don   \n",
       "1       0   5285               0_to_the_and_for   \n",
       "2       1   2019                 1_the_to_of_in   \n",
       "3       2   1231                2_the_of_to_and   \n",
       "4       3   1707               3_the_in_what_is   \n",
       "5       4    729            4_the_match_in_team   \n",
       "6       5   1498                5_who_is_the_of   \n",
       "7       6    980    6_battle_the_characters_and   \n",
       "8       7   1629             7_the_of_write_and   \n",
       "9       8    620              8_the_you_song_to   \n",
       "10      9    498             9_he_his_sonic_him   \n",
       "\n",
       "                                       Representation  \\\n",
       "0   [go, condenser, pressures, don, cooled, operat...   \n",
       "1     [to, the, and, for, is, in, what, of, it, that]   \n",
       "2      [the, to, of, in, and, for, what, is, on, how]   \n",
       "3     [the, of, to, and, in, is, for, what, that, or]   \n",
       "4      [the, in, what, is, and, of, news, to, me, on]   \n",
       "5   [the, match, in, team, who, what, of, last, wo...   \n",
       "6   [who, is, the, of, in, you, and, name, what, her]   \n",
       "7   [battle, the, characters, and, in, of, vs, cha...   \n",
       "8   [the, of, write, and, in, satirical, to, this,...   \n",
       "9   [the, you, song, to, youtube, and, it, of, in,...   \n",
       "10  [he, his, sonic, him, the, and, to, tails, mar...   \n",
       "\n",
       "                                              KeyBERT  \\\n",
       "0   [ideas, whispers, style, write, template, sugg...   \n",
       "1   [ai, ai model, models, model, google, api, sea...   \n",
       "2   [stock price, stock market, stock, stocks, mar...   \n",
       "3   [healthy, fat, diabetes, supplements, vegan, f...   \n",
       "4   [news latest, latest news, news today, today n...   \n",
       "5   [matches, final, tournament, south america, te...   \n",
       "6   [software engineer, engineer, graduated, caree...   \n",
       "7   [battle, battles, combat, strongest, vs, abili...   \n",
       "8   [book, chapter, chapters, summary, summary lat...   \n",
       "9   [lyrics, song, testimony, plead, songs, son, m...   \n",
       "10  [tails, sonic, villain, spider, murderer, kill...   \n",
       "\n",
       "                                               OpenAI  \\\n",
       "0     [Vintage Horror Story Idea Generation by Style]   \n",
       "1                [Best Free AI Models and Their Uses]   \n",
       "2          [Stock Market Prices and Daily Volatility]   \n",
       "3          [Nutrition Myths and Disease Risk Factors]   \n",
       "4                [Latest World News and Events Today]   \n",
       "5          [Europe vs South America World Cup Finals]   \n",
       "6   [Biographical Inquiries and Anomalous Media Do...   \n",
       "7   [Fictional Character Battle Analysis and Compa...   \n",
       "8             [Cross Creek Book Summary and Analysis]   \n",
       "9            [Identifying Songs from Provided Lyrics]   \n",
       "10            [Dark Villain Tails AU in Sonic Comics]   \n",
       "\n",
       "                                                  MMR  \\\n",
       "0   [write, battle, like, characters, mario, list,...   \n",
       "1   [ai, llm, models, python, file, search, data, ...   \n",
       "2   [market, tariffs, china, bank, trading, compan...   \n",
       "3   [water, disease, effects, protein, supplements...   \n",
       "4   [news today, city, london, events, tel aviv, 2...   \n",
       "5   [won, final, 2025, teams, league, europe, matc...   \n",
       "6   [anime, breaking, artist, famous, female, did ...   \n",
       "7   [vs, battles, eden, ap, abilities, speed, dc, ...   \n",
       "8   [book, orthodox, cross, quotes, internet artic...   \n",
       "9   [song, lyrics, irish, okey, songs, testimony, ...   \n",
       "10  [sonic, tails, miles, fox, village, bird, hero...   \n",
       "\n",
       "                                  Representative_Docs  \n",
       "0   [write 10 story ideas in style Charles Beaumon...  \n",
       "1   [help me find the best AI models, and where to...  \n",
       "2   [How is the stock market today?, why was the s...  \n",
       "3   [fact checking the claim :\\nif u don't eat ani...  \n",
       "4   [what is the latest news, what is the latest n...  \n",
       "5   [Please find out for me and list all the FIFA ...  \n",
       "6   [Who is Andrei Topala software engineer that g...  \n",
       "7   [vs battles appearances, personalities, simila...  \n",
       "8   [What is the main argument of the book Cross C...  \n",
       "9   [What song do these lyrics come from\\n\"Residen...  \n",
       "10  [Okay so Tails in this comic (or Miles, as he'...  "
      ]
     },
     "execution_count": 104,
     "metadata": {},
     "output_type": "execute_result"
    }
   ],
   "source": [
    "topic_model.get_topic_info()"
   ]
  },
  {
   "cell_type": "code",
   "execution_count": 129,
   "id": "ee45961c-bff0-45b6-8c1b-7dfecd589b5b",
   "metadata": {},
   "outputs": [
    {
     "name": "stderr",
     "output_type": "stream",
     "text": [
      "100%|███████████████████████████████████████████████████████████████████| 17/17 [00:00<00:00, 26.07it/s]\n"
     ]
    }
   ],
   "source": [
    "topic_distr, _ = topic_model.approximate_distribution(queries)"
   ]
  },
  {
   "cell_type": "code",
   "execution_count": 141,
   "id": "b7372117-0a75-4aed-b4e5-add2600c1609",
   "metadata": {},
   "outputs": [
    {
     "data": {
      "text/plain": [
       "1.0    8378\n",
       "0.0    4384\n",
       "1.0    1818\n",
       "1.0    1040\n",
       "1.0     531\n",
       "1.0      46\n",
       "1.0       3\n",
       "Name: count, dtype: int64"
      ]
     },
     "execution_count": 141,
     "metadata": {},
     "output_type": "execute_result"
    }
   ],
   "source": [
    "pd.Series(topic_distr.sum(axis=1)).value_counts()"
   ]
  },
  {
   "cell_type": "code",
   "execution_count": null,
   "id": "6b03a574-51b0-4508-9ebb-44fbef13fdc5",
   "metadata": {},
   "outputs": [],
   "source": [
    "td\n",
    "for td in topic_distr:\n",
    "    "
   ]
  },
  {
   "cell_type": "code",
   "execution_count": 185,
   "id": "3f1e91f8-28b7-40c8-b791-b2a45a7c9371",
   "metadata": {},
   "outputs": [
    {
     "data": {
      "text/plain": [
       "array([0., 0., 0., 0., 1., 0., 0., 0., 0., 0.])"
      ]
     },
     "execution_count": 185,
     "metadata": {},
     "output_type": "execute_result"
    }
   ],
   "source": [
    "topic_distr[9]"
   ]
  },
  {
   "cell_type": "code",
   "execution_count": 184,
   "id": "bf7644ee-eb6b-4725-a40e-0177a0312688",
   "metadata": {},
   "outputs": [
    {
     "data": {
      "text/plain": [
       "'how did Hajduk play its last match'"
      ]
     },
     "execution_count": 184,
     "metadata": {},
     "output_type": "execute_result"
    }
   ],
   "source": [
    "queries[9]"
   ]
  },
  {
   "cell_type": "code",
   "execution_count": 105,
   "id": "f08d9d03-e1a9-4037-893d-b4d73e7ca382",
   "metadata": {},
   "outputs": [
    {
     "data": {
      "text/html": [
       "<div>\n",
       "<style scoped>\n",
       "    .dataframe tbody tr th:only-of-type {\n",
       "        vertical-align: middle;\n",
       "    }\n",
       "\n",
       "    .dataframe tbody tr th {\n",
       "        vertical-align: top;\n",
       "    }\n",
       "\n",
       "    .dataframe thead th {\n",
       "        text-align: right;\n",
       "    }\n",
       "</style>\n",
       "<table border=\"1\" class=\"dataframe\">\n",
       "  <thead>\n",
       "    <tr style=\"text-align: right;\">\n",
       "      <th></th>\n",
       "      <th>Topic</th>\n",
       "      <th>Count</th>\n",
       "    </tr>\n",
       "  </thead>\n",
       "  <tbody>\n",
       "    <tr>\n",
       "      <th>0</th>\n",
       "      <td>0</td>\n",
       "      <td>5285</td>\n",
       "    </tr>\n",
       "    <tr>\n",
       "      <th>6</th>\n",
       "      <td>1</td>\n",
       "      <td>2019</td>\n",
       "    </tr>\n",
       "    <tr>\n",
       "      <th>3</th>\n",
       "      <td>3</td>\n",
       "      <td>1707</td>\n",
       "    </tr>\n",
       "    <tr>\n",
       "      <th>8</th>\n",
       "      <td>7</td>\n",
       "      <td>1629</td>\n",
       "    </tr>\n",
       "    <tr>\n",
       "      <th>5</th>\n",
       "      <td>5</td>\n",
       "      <td>1498</td>\n",
       "    </tr>\n",
       "    <tr>\n",
       "      <th>2</th>\n",
       "      <td>2</td>\n",
       "      <td>1231</td>\n",
       "    </tr>\n",
       "    <tr>\n",
       "      <th>7</th>\n",
       "      <td>6</td>\n",
       "      <td>980</td>\n",
       "    </tr>\n",
       "    <tr>\n",
       "      <th>1</th>\n",
       "      <td>4</td>\n",
       "      <td>729</td>\n",
       "    </tr>\n",
       "    <tr>\n",
       "      <th>9</th>\n",
       "      <td>8</td>\n",
       "      <td>620</td>\n",
       "    </tr>\n",
       "    <tr>\n",
       "      <th>4</th>\n",
       "      <td>9</td>\n",
       "      <td>498</td>\n",
       "    </tr>\n",
       "    <tr>\n",
       "      <th>10</th>\n",
       "      <td>-1</td>\n",
       "      <td>4</td>\n",
       "    </tr>\n",
       "  </tbody>\n",
       "</table>\n",
       "</div>"
      ],
      "text/plain": [
       "    Topic  Count\n",
       "0       0   5285\n",
       "6       1   2019\n",
       "3       3   1707\n",
       "8       7   1629\n",
       "5       5   1498\n",
       "2       2   1231\n",
       "7       6    980\n",
       "1       4    729\n",
       "9       8    620\n",
       "4       9    498\n",
       "10     -1      4"
      ]
     },
     "execution_count": 105,
     "metadata": {},
     "output_type": "execute_result"
    }
   ],
   "source": [
    "topic_model.get_top"
   ]
  },
  {
   "cell_type": "code",
   "execution_count": 91,
   "id": "f08d8644-1eb5-4462-8557-26a9b8de659c",
   "metadata": {},
   "outputs": [
    {
     "data": {
      "application/vnd.plotly.v1+json": {
       "config": {
        "plotlyServerURL": "https://plot.ly"
       },
       "data": [
        {
         "hoverinfo": "text",
         "marker": {
          "color": "rgb(61,153,112)"
         },
         "mode": "lines",
         "type": "scatter",
         "x": {
          "bdata": "AAAAAAAAAABSYfhSuIDSP1Jh+FK4gNI/AAAAAAAAAAA=",
          "dtype": "f8"
         },
         "xaxis": "x",
         "y": {
          "bdata": "AAAAAAAALsAAAAAAAAAuwAAAAAAAADnAAAAAAAAAOcA=",
          "dtype": "f8"
         },
         "yaxis": "y"
        },
        {
         "hoverinfo": "text",
         "marker": {
          "color": "rgb(61,153,112)"
         },
         "mode": "lines",
         "type": "scatter",
         "x": {
          "bdata": "AAAAAAAAAAC09kr2cRrIP7T2SvZxGsg/AAAAAAAAAAA=",
          "dtype": "f8"
         },
         "xaxis": "x",
         "y": {
          "bdata": "AAAAAACARsAAAAAAAIBGwAAAAAAAgEvAAAAAAACAS8A=",
          "dtype": "f8"
         },
         "yaxis": "y"
        },
        {
         "hoverinfo": "text",
         "marker": {
          "color": "rgb(61,153,112)"
         },
         "mode": "lines",
         "type": "scatter",
         "x": {
          "bdata": "AAAAAAAAAADitFy2dwTMP+K0XLZ3BMw/tPZK9nEayD8=",
          "dtype": "f8"
         },
         "xaxis": "x",
         "y": {
          "bdata": "AAAAAACAQcAAAAAAAIBBwAAAAAAAAEnAAAAAAAAAScA=",
          "dtype": "f8"
         },
         "yaxis": "y"
        },
        {
         "hoverinfo": "text",
         "marker": {
          "color": "rgb(61,153,112)"
         },
         "mode": "lines",
         "type": "scatter",
         "x": {
          "bdata": "4rRctncEzD/i7pj5W9HQP+LumPlb0dA/AAAAAAAAAAA=",
          "dtype": "f8"
         },
         "xaxis": "x",
         "y": {
          "bdata": "AAAAAABARcAAAAAAAEBFwAAAAAAAQFDAAAAAAABAUMA=",
          "dtype": "f8"
         },
         "yaxis": "y"
        },
        {
         "hoverinfo": "text",
         "marker": {
          "color": "rgb(61,153,112)"
         },
         "mode": "lines",
         "type": "scatter",
         "x": {
          "bdata": "AAAAAAAAAAD49yhN60zbP/j3KE3rTNs/AAAAAAAAAAA=",
          "dtype": "f8"
         },
         "xaxis": "x",
         "y": {
          "bdata": "AAAAAADAUsAAAAAAAMBSwAAAAAAAQFXAAAAAAABAVcA=",
          "dtype": "f8"
         },
         "yaxis": "y"
        },
        {
         "hoverinfo": "text",
         "marker": {
          "color": "rgb(61,153,112)"
         },
         "mode": "lines",
         "type": "scatter",
         "x": {
          "bdata": "4u6Y+VvR0D+Aj5lCi2DeP4CPmUKLYN4/+PcoTetM2z8=",
          "dtype": "f8"
         },
         "xaxis": "x",
         "y": {
          "bdata": "AAAAAADgSsAAAAAAAOBKwAAAAAAAAFTAAAAAAAAAVMA=",
          "dtype": "f8"
         },
         "yaxis": "y"
        },
        {
         "hoverinfo": "text",
         "marker": {
          "color": "rgb(61,153,112)"
         },
         "mode": "lines",
         "type": "scatter",
         "x": {
          "bdata": "UmH4UriA0j9R7MnwM0PgP1HsyfAzQ+A/gI+ZQotg3j8=",
          "dtype": "f8"
         },
         "xaxis": "x",
         "y": {
          "bdata": "AAAAAAAANMAAAAAAAAA0wAAAAAAAuFDAAAAAAAC4UMA=",
          "dtype": "f8"
         },
         "yaxis": "y"
        },
        {
         "hoverinfo": "text",
         "marker": {
          "color": "rgb(61,153,112)"
         },
         "mode": "lines",
         "type": "scatter",
         "x": {
          "bdata": "UezJ8DND4D/FEKBtNKDgP8UQoG00oOA/AAAAAAAAAAA=",
          "dtype": "f8"
         },
         "xaxis": "x",
         "y": {
          "bdata": "AAAAAAC4RcAAAAAAALhFwAAAAAAAwFfAAAAAAADAV8A=",
          "dtype": "f8"
         },
         "yaxis": "y"
        },
        {
         "hoverinfo": "text",
         "marker": {
          "color": "rgb(61,153,112)"
         },
         "mode": "lines",
         "type": "scatter",
         "x": {
          "bdata": "AAAAAAAAAAAV+sxiKfjhPxX6zGIp+OE/xRCgbTSg4D8=",
          "dtype": "f8"
         },
         "xaxis": "x",
         "y": {
          "bdata": "AAAAAAAAFMAAAAAAAAAUwAAAAAAATlHAAAAAAABOUcA=",
          "dtype": "f8"
         },
         "yaxis": "y"
        }
       ],
       "layout": {
        "autosize": false,
        "height": 350,
        "hoverlabel": {
         "bgcolor": "white",
         "font": {
          "family": "Rockwell",
          "size": 16
         }
        },
        "hovermode": "closest",
        "plot_bgcolor": "#ECEFF1",
        "showlegend": false,
        "template": {
         "data": {
          "bar": [
           {
            "error_x": {
             "color": "#2a3f5f"
            },
            "error_y": {
             "color": "#2a3f5f"
            },
            "marker": {
             "line": {
              "color": "white",
              "width": 0.5
             },
             "pattern": {
              "fillmode": "overlay",
              "size": 10,
              "solidity": 0.2
             }
            },
            "type": "bar"
           }
          ],
          "barpolar": [
           {
            "marker": {
             "line": {
              "color": "white",
              "width": 0.5
             },
             "pattern": {
              "fillmode": "overlay",
              "size": 10,
              "solidity": 0.2
             }
            },
            "type": "barpolar"
           }
          ],
          "carpet": [
           {
            "aaxis": {
             "endlinecolor": "#2a3f5f",
             "gridcolor": "#C8D4E3",
             "linecolor": "#C8D4E3",
             "minorgridcolor": "#C8D4E3",
             "startlinecolor": "#2a3f5f"
            },
            "baxis": {
             "endlinecolor": "#2a3f5f",
             "gridcolor": "#C8D4E3",
             "linecolor": "#C8D4E3",
             "minorgridcolor": "#C8D4E3",
             "startlinecolor": "#2a3f5f"
            },
            "type": "carpet"
           }
          ],
          "choropleth": [
           {
            "colorbar": {
             "outlinewidth": 0,
             "ticks": ""
            },
            "type": "choropleth"
           }
          ],
          "contour": [
           {
            "colorbar": {
             "outlinewidth": 0,
             "ticks": ""
            },
            "colorscale": [
             [
              0,
              "#0d0887"
             ],
             [
              0.1111111111111111,
              "#46039f"
             ],
             [
              0.2222222222222222,
              "#7201a8"
             ],
             [
              0.3333333333333333,
              "#9c179e"
             ],
             [
              0.4444444444444444,
              "#bd3786"
             ],
             [
              0.5555555555555556,
              "#d8576b"
             ],
             [
              0.6666666666666666,
              "#ed7953"
             ],
             [
              0.7777777777777778,
              "#fb9f3a"
             ],
             [
              0.8888888888888888,
              "#fdca26"
             ],
             [
              1,
              "#f0f921"
             ]
            ],
            "type": "contour"
           }
          ],
          "contourcarpet": [
           {
            "colorbar": {
             "outlinewidth": 0,
             "ticks": ""
            },
            "type": "contourcarpet"
           }
          ],
          "heatmap": [
           {
            "colorbar": {
             "outlinewidth": 0,
             "ticks": ""
            },
            "colorscale": [
             [
              0,
              "#0d0887"
             ],
             [
              0.1111111111111111,
              "#46039f"
             ],
             [
              0.2222222222222222,
              "#7201a8"
             ],
             [
              0.3333333333333333,
              "#9c179e"
             ],
             [
              0.4444444444444444,
              "#bd3786"
             ],
             [
              0.5555555555555556,
              "#d8576b"
             ],
             [
              0.6666666666666666,
              "#ed7953"
             ],
             [
              0.7777777777777778,
              "#fb9f3a"
             ],
             [
              0.8888888888888888,
              "#fdca26"
             ],
             [
              1,
              "#f0f921"
             ]
            ],
            "type": "heatmap"
           }
          ],
          "histogram": [
           {
            "marker": {
             "pattern": {
              "fillmode": "overlay",
              "size": 10,
              "solidity": 0.2
             }
            },
            "type": "histogram"
           }
          ],
          "histogram2d": [
           {
            "colorbar": {
             "outlinewidth": 0,
             "ticks": ""
            },
            "colorscale": [
             [
              0,
              "#0d0887"
             ],
             [
              0.1111111111111111,
              "#46039f"
             ],
             [
              0.2222222222222222,
              "#7201a8"
             ],
             [
              0.3333333333333333,
              "#9c179e"
             ],
             [
              0.4444444444444444,
              "#bd3786"
             ],
             [
              0.5555555555555556,
              "#d8576b"
             ],
             [
              0.6666666666666666,
              "#ed7953"
             ],
             [
              0.7777777777777778,
              "#fb9f3a"
             ],
             [
              0.8888888888888888,
              "#fdca26"
             ],
             [
              1,
              "#f0f921"
             ]
            ],
            "type": "histogram2d"
           }
          ],
          "histogram2dcontour": [
           {
            "colorbar": {
             "outlinewidth": 0,
             "ticks": ""
            },
            "colorscale": [
             [
              0,
              "#0d0887"
             ],
             [
              0.1111111111111111,
              "#46039f"
             ],
             [
              0.2222222222222222,
              "#7201a8"
             ],
             [
              0.3333333333333333,
              "#9c179e"
             ],
             [
              0.4444444444444444,
              "#bd3786"
             ],
             [
              0.5555555555555556,
              "#d8576b"
             ],
             [
              0.6666666666666666,
              "#ed7953"
             ],
             [
              0.7777777777777778,
              "#fb9f3a"
             ],
             [
              0.8888888888888888,
              "#fdca26"
             ],
             [
              1,
              "#f0f921"
             ]
            ],
            "type": "histogram2dcontour"
           }
          ],
          "mesh3d": [
           {
            "colorbar": {
             "outlinewidth": 0,
             "ticks": ""
            },
            "type": "mesh3d"
           }
          ],
          "parcoords": [
           {
            "line": {
             "colorbar": {
              "outlinewidth": 0,
              "ticks": ""
             }
            },
            "type": "parcoords"
           }
          ],
          "pie": [
           {
            "automargin": true,
            "type": "pie"
           }
          ],
          "scatter": [
           {
            "fillpattern": {
             "fillmode": "overlay",
             "size": 10,
             "solidity": 0.2
            },
            "type": "scatter"
           }
          ],
          "scatter3d": [
           {
            "line": {
             "colorbar": {
              "outlinewidth": 0,
              "ticks": ""
             }
            },
            "marker": {
             "colorbar": {
              "outlinewidth": 0,
              "ticks": ""
             }
            },
            "type": "scatter3d"
           }
          ],
          "scattercarpet": [
           {
            "marker": {
             "colorbar": {
              "outlinewidth": 0,
              "ticks": ""
             }
            },
            "type": "scattercarpet"
           }
          ],
          "scattergeo": [
           {
            "marker": {
             "colorbar": {
              "outlinewidth": 0,
              "ticks": ""
             }
            },
            "type": "scattergeo"
           }
          ],
          "scattergl": [
           {
            "marker": {
             "colorbar": {
              "outlinewidth": 0,
              "ticks": ""
             }
            },
            "type": "scattergl"
           }
          ],
          "scattermap": [
           {
            "marker": {
             "colorbar": {
              "outlinewidth": 0,
              "ticks": ""
             }
            },
            "type": "scattermap"
           }
          ],
          "scattermapbox": [
           {
            "marker": {
             "colorbar": {
              "outlinewidth": 0,
              "ticks": ""
             }
            },
            "type": "scattermapbox"
           }
          ],
          "scatterpolar": [
           {
            "marker": {
             "colorbar": {
              "outlinewidth": 0,
              "ticks": ""
             }
            },
            "type": "scatterpolar"
           }
          ],
          "scatterpolargl": [
           {
            "marker": {
             "colorbar": {
              "outlinewidth": 0,
              "ticks": ""
             }
            },
            "type": "scatterpolargl"
           }
          ],
          "scatterternary": [
           {
            "marker": {
             "colorbar": {
              "outlinewidth": 0,
              "ticks": ""
             }
            },
            "type": "scatterternary"
           }
          ],
          "surface": [
           {
            "colorbar": {
             "outlinewidth": 0,
             "ticks": ""
            },
            "colorscale": [
             [
              0,
              "#0d0887"
             ],
             [
              0.1111111111111111,
              "#46039f"
             ],
             [
              0.2222222222222222,
              "#7201a8"
             ],
             [
              0.3333333333333333,
              "#9c179e"
             ],
             [
              0.4444444444444444,
              "#bd3786"
             ],
             [
              0.5555555555555556,
              "#d8576b"
             ],
             [
              0.6666666666666666,
              "#ed7953"
             ],
             [
              0.7777777777777778,
              "#fb9f3a"
             ],
             [
              0.8888888888888888,
              "#fdca26"
             ],
             [
              1,
              "#f0f921"
             ]
            ],
            "type": "surface"
           }
          ],
          "table": [
           {
            "cells": {
             "fill": {
              "color": "#EBF0F8"
             },
             "line": {
              "color": "white"
             }
            },
            "header": {
             "fill": {
              "color": "#C8D4E3"
             },
             "line": {
              "color": "white"
             }
            },
            "type": "table"
           }
          ]
         },
         "layout": {
          "annotationdefaults": {
           "arrowcolor": "#2a3f5f",
           "arrowhead": 0,
           "arrowwidth": 1
          },
          "autotypenumbers": "strict",
          "coloraxis": {
           "colorbar": {
            "outlinewidth": 0,
            "ticks": ""
           }
          },
          "colorscale": {
           "diverging": [
            [
             0,
             "#8e0152"
            ],
            [
             0.1,
             "#c51b7d"
            ],
            [
             0.2,
             "#de77ae"
            ],
            [
             0.3,
             "#f1b6da"
            ],
            [
             0.4,
             "#fde0ef"
            ],
            [
             0.5,
             "#f7f7f7"
            ],
            [
             0.6,
             "#e6f5d0"
            ],
            [
             0.7,
             "#b8e186"
            ],
            [
             0.8,
             "#7fbc41"
            ],
            [
             0.9,
             "#4d9221"
            ],
            [
             1,
             "#276419"
            ]
           ],
           "sequential": [
            [
             0,
             "#0d0887"
            ],
            [
             0.1111111111111111,
             "#46039f"
            ],
            [
             0.2222222222222222,
             "#7201a8"
            ],
            [
             0.3333333333333333,
             "#9c179e"
            ],
            [
             0.4444444444444444,
             "#bd3786"
            ],
            [
             0.5555555555555556,
             "#d8576b"
            ],
            [
             0.6666666666666666,
             "#ed7953"
            ],
            [
             0.7777777777777778,
             "#fb9f3a"
            ],
            [
             0.8888888888888888,
             "#fdca26"
            ],
            [
             1,
             "#f0f921"
            ]
           ],
           "sequentialminus": [
            [
             0,
             "#0d0887"
            ],
            [
             0.1111111111111111,
             "#46039f"
            ],
            [
             0.2222222222222222,
             "#7201a8"
            ],
            [
             0.3333333333333333,
             "#9c179e"
            ],
            [
             0.4444444444444444,
             "#bd3786"
            ],
            [
             0.5555555555555556,
             "#d8576b"
            ],
            [
             0.6666666666666666,
             "#ed7953"
            ],
            [
             0.7777777777777778,
             "#fb9f3a"
            ],
            [
             0.8888888888888888,
             "#fdca26"
            ],
            [
             1,
             "#f0f921"
            ]
           ]
          },
          "colorway": [
           "#636efa",
           "#EF553B",
           "#00cc96",
           "#ab63fa",
           "#FFA15A",
           "#19d3f3",
           "#FF6692",
           "#B6E880",
           "#FF97FF",
           "#FECB52"
          ],
          "font": {
           "color": "#2a3f5f"
          },
          "geo": {
           "bgcolor": "white",
           "lakecolor": "white",
           "landcolor": "white",
           "showlakes": true,
           "showland": true,
           "subunitcolor": "#C8D4E3"
          },
          "hoverlabel": {
           "align": "left"
          },
          "hovermode": "closest",
          "mapbox": {
           "style": "light"
          },
          "paper_bgcolor": "white",
          "plot_bgcolor": "white",
          "polar": {
           "angularaxis": {
            "gridcolor": "#EBF0F8",
            "linecolor": "#EBF0F8",
            "ticks": ""
           },
           "bgcolor": "white",
           "radialaxis": {
            "gridcolor": "#EBF0F8",
            "linecolor": "#EBF0F8",
            "ticks": ""
           }
          },
          "scene": {
           "xaxis": {
            "backgroundcolor": "white",
            "gridcolor": "#DFE8F3",
            "gridwidth": 2,
            "linecolor": "#EBF0F8",
            "showbackground": true,
            "ticks": "",
            "zerolinecolor": "#EBF0F8"
           },
           "yaxis": {
            "backgroundcolor": "white",
            "gridcolor": "#DFE8F3",
            "gridwidth": 2,
            "linecolor": "#EBF0F8",
            "showbackground": true,
            "ticks": "",
            "zerolinecolor": "#EBF0F8"
           },
           "zaxis": {
            "backgroundcolor": "white",
            "gridcolor": "#DFE8F3",
            "gridwidth": 2,
            "linecolor": "#EBF0F8",
            "showbackground": true,
            "ticks": "",
            "zerolinecolor": "#EBF0F8"
           }
          },
          "shapedefaults": {
           "line": {
            "color": "#2a3f5f"
           }
          },
          "ternary": {
           "aaxis": {
            "gridcolor": "#DFE8F3",
            "linecolor": "#A2B1C6",
            "ticks": ""
           },
           "baxis": {
            "gridcolor": "#DFE8F3",
            "linecolor": "#A2B1C6",
            "ticks": ""
           },
           "bgcolor": "white",
           "caxis": {
            "gridcolor": "#DFE8F3",
            "linecolor": "#A2B1C6",
            "ticks": ""
           }
          },
          "title": {
           "x": 0.05
          },
          "xaxis": {
           "automargin": true,
           "gridcolor": "#EBF0F8",
           "linecolor": "#EBF0F8",
           "ticks": "",
           "title": {
            "standoff": 15
           },
           "zerolinecolor": "#EBF0F8",
           "zerolinewidth": 2
          },
          "yaxis": {
           "automargin": true,
           "gridcolor": "#EBF0F8",
           "linecolor": "#EBF0F8",
           "ticks": "",
           "title": {
            "standoff": 15
           },
           "zerolinecolor": "#EBF0F8",
           "zerolinewidth": 2
          }
         }
        },
        "title": {
         "font": {
          "color": "Black",
          "size": 22
         },
         "text": "<b>Hierarchical Clustering</b>",
         "x": 0.5,
         "xanchor": "center",
         "yanchor": "top"
        },
        "width": 1000,
        "xaxis": {
         "mirror": "allticks",
         "rangemode": "tozero",
         "showgrid": false,
         "showline": true,
         "showticklabels": true,
         "ticks": "outside",
         "type": "linear",
         "zeroline": false
        },
        "yaxis": {
         "mirror": "allticks",
         "range": [
          -100,
          0
         ],
         "rangemode": "tozero",
         "showgrid": false,
         "showline": true,
         "showticklabels": true,
         "tickmode": "array",
         "ticks": "outside",
         "ticktext": [
          "9_he_his_sonic",
          "8_the_you_song",
          "7_the_of_write",
          "2_the_of_to",
          "0_to_the_and",
          "1_the_to_of",
          "3_the_in_what",
          "4_the_match_in",
          "5_who_is_the",
          "6_battle_the_characters"
         ],
         "tickvals": [
          -5,
          -15,
          -25,
          -35,
          -45,
          -55,
          -65,
          -75,
          -85,
          -95
         ],
         "type": "linear",
         "zeroline": false
        }
       }
      }
     },
     "metadata": {},
     "output_type": "display_data"
    }
   ],
   "source": [
    "topic_model.visualize_hierarchy(custom_labels=True)"
   ]
  },
  {
   "cell_type": "code",
   "execution_count": 56,
   "id": "ebcf110e-ec54-4b18-9ad2-da82f77ee93c",
   "metadata": {},
   "outputs": [
    {
     "data": {
      "text/plain": [
       "['write',\n",
       " 'battle',\n",
       " 'like',\n",
       " 'characters',\n",
       " 'mario',\n",
       " 'list',\n",
       " 'satirical',\n",
       " 'search',\n",
       " 'https www',\n",
       " 'did']"
      ]
     },
     "execution_count": 56,
     "metadata": {},
     "output_type": "execute_result"
    }
   ],
   "source": [
    "topic_info.iloc[0]['MMR']"
   ]
  },
  {
   "cell_type": "code",
   "execution_count": 61,
   "id": "ad5f209a-a35a-4784-affb-1ffdf665fc08",
   "metadata": {},
   "outputs": [
    {
     "data": {
      "application/vnd.plotly.v1+json": {
       "config": {
        "plotlyServerURL": "https://plot.ly"
       },
       "data": [
        {
         "hoverinfo": "text",
         "marker": {
          "color": "rgb(61,153,112)"
         },
         "mode": "lines",
         "type": "scatter",
         "x": {
          "bdata": "AAAAAAAAAACawRGL4ETsP5rBEYvgROw/AAAAAAAAAAA=",
          "dtype": "f8"
         },
         "xaxis": "x",
         "y": {
          "bdata": "AAAAAAAAFMAAAAAAAAAUwAAAAAAAAC7AAAAAAAAALsA=",
          "dtype": "f8"
         },
         "yaxis": "y"
        },
        {
         "hoverinfo": "text",
         "marker": {
          "color": "rgb(61,153,112)"
         },
         "mode": "lines",
         "type": "scatter",
         "x": {
          "bdata": "AAAAAAAAAAAJ+ArxtbjoPwn4CvG1uOg/AAAAAAAAAAA=",
          "dtype": "f8"
         },
         "xaxis": "x",
         "y": {
          "bdata": "AAAAAAAAOcAAAAAAAAA5wAAAAAAAgEHAAAAAAACAQcA=",
          "dtype": "f8"
         },
         "yaxis": "y"
        },
        {
         "hoverinfo": "text",
         "marker": {
          "color": "rgb(61,153,112)"
         },
         "mode": "lines",
         "type": "scatter",
         "x": {
          "bdata": "AAAAAAAAAAAoJWF8I4bkPyglYXwjhuQ/AAAAAAAAAAA=",
          "dtype": "f8"
         },
         "xaxis": "x",
         "y": {
          "bdata": "AAAAAACARsAAAAAAAIBGwAAAAAAAgEvAAAAAAACAS8A=",
          "dtype": "f8"
         },
         "yaxis": "y"
        },
        {
         "hoverinfo": "text",
         "marker": {
          "color": "rgb(61,153,112)"
         },
         "mode": "lines",
         "type": "scatter",
         "x": {
          "bdata": "KCVhfCOG5D8gZRZ6RjbnPyBlFnpGNuc/AAAAAAAAAAA=",
          "dtype": "f8"
         },
         "xaxis": "x",
         "y": {
          "bdata": "AAAAAAAAScAAAAAAAABJwAAAAAAAQFDAAAAAAABAUMA=",
          "dtype": "f8"
         },
         "yaxis": "y"
        },
        {
         "hoverinfo": "text",
         "marker": {
          "color": "rgb(61,153,112)"
         },
         "mode": "lines",
         "type": "scatter",
         "x": {
          "bdata": "CfgK8bW46D8EiXubgJXrPwSJe5uAles/IGUWekY25z8=",
          "dtype": "f8"
         },
         "xaxis": "x",
         "y": {
          "bdata": "AAAAAAAAPsAAAAAAAAA+wAAAAAAAwEzAAAAAAADATMA=",
          "dtype": "f8"
         },
         "yaxis": "y"
        },
        {
         "hoverinfo": "text",
         "marker": {
          "color": "rgb(61,153,112)"
         },
         "mode": "lines",
         "type": "scatter",
         "x": {
          "bdata": "msERi+BE7D9ax3vD/lrtP1rHe8P+Wu0/BIl7m4CV6z8=",
          "dtype": "f8"
         },
         "xaxis": "x",
         "y": {
          "bdata": "AAAAAAAAJMAAAAAAAAAkwAAAAAAA4EXAAAAAAADgRcA=",
          "dtype": "f8"
         },
         "yaxis": "y"
        },
        {
         "hoverinfo": "text",
         "marker": {
          "color": "rgb(255,65,54)"
         },
         "mode": "lines",
         "type": "scatter",
         "x": {
          "bdata": "AAAAAAAAAACWORaMw4vpP5Y5FozDi+k/AAAAAAAAAAA=",
          "dtype": "f8"
         },
         "xaxis": "x",
         "y": {
          "bdata": "AAAAAADAUsAAAAAAAMBSwAAAAAAAQFXAAAAAAABAVcA=",
          "dtype": "f8"
         },
         "yaxis": "y"
        },
        {
         "hoverinfo": "text",
         "marker": {
          "color": "rgb(255,65,54)"
         },
         "mode": "lines",
         "type": "scatter",
         "x": {
          "bdata": "ljkWjMOL6T8xr3ceHYvvPzGvdx4di+8/AAAAAAAAAAA=",
          "dtype": "f8"
         },
         "xaxis": "x",
         "y": {
          "bdata": "AAAAAAAAVMAAAAAAAABUwAAAAAAAwFfAAAAAAADAV8A=",
          "dtype": "f8"
         },
         "yaxis": "y"
        },
        {
         "hoverinfo": "text",
         "marker": {
          "color": "rgb(0,116,217)"
         },
         "mode": "lines",
         "type": "scatter",
         "x": {
          "bdata": "Wsd7w/5a7T+TN2ZqHGfwP5M3ZmocZ/A/Ma93Hh2L7z8=",
          "dtype": "f8"
         },
         "xaxis": "x",
         "y": {
          "bdata": "AAAAAADgOsAAAAAAAOA6wAAAAAAA4FXAAAAAAADgVcA=",
          "dtype": "f8"
         },
         "yaxis": "y"
        }
       ],
       "layout": {
        "autosize": false,
        "height": 350,
        "hoverlabel": {
         "bgcolor": "white",
         "font": {
          "family": "Rockwell",
          "size": 16
         }
        },
        "hovermode": "closest",
        "plot_bgcolor": "#ECEFF1",
        "showlegend": false,
        "template": {
         "data": {
          "bar": [
           {
            "error_x": {
             "color": "#2a3f5f"
            },
            "error_y": {
             "color": "#2a3f5f"
            },
            "marker": {
             "line": {
              "color": "white",
              "width": 0.5
             },
             "pattern": {
              "fillmode": "overlay",
              "size": 10,
              "solidity": 0.2
             }
            },
            "type": "bar"
           }
          ],
          "barpolar": [
           {
            "marker": {
             "line": {
              "color": "white",
              "width": 0.5
             },
             "pattern": {
              "fillmode": "overlay",
              "size": 10,
              "solidity": 0.2
             }
            },
            "type": "barpolar"
           }
          ],
          "carpet": [
           {
            "aaxis": {
             "endlinecolor": "#2a3f5f",
             "gridcolor": "#C8D4E3",
             "linecolor": "#C8D4E3",
             "minorgridcolor": "#C8D4E3",
             "startlinecolor": "#2a3f5f"
            },
            "baxis": {
             "endlinecolor": "#2a3f5f",
             "gridcolor": "#C8D4E3",
             "linecolor": "#C8D4E3",
             "minorgridcolor": "#C8D4E3",
             "startlinecolor": "#2a3f5f"
            },
            "type": "carpet"
           }
          ],
          "choropleth": [
           {
            "colorbar": {
             "outlinewidth": 0,
             "ticks": ""
            },
            "type": "choropleth"
           }
          ],
          "contour": [
           {
            "colorbar": {
             "outlinewidth": 0,
             "ticks": ""
            },
            "colorscale": [
             [
              0,
              "#0d0887"
             ],
             [
              0.1111111111111111,
              "#46039f"
             ],
             [
              0.2222222222222222,
              "#7201a8"
             ],
             [
              0.3333333333333333,
              "#9c179e"
             ],
             [
              0.4444444444444444,
              "#bd3786"
             ],
             [
              0.5555555555555556,
              "#d8576b"
             ],
             [
              0.6666666666666666,
              "#ed7953"
             ],
             [
              0.7777777777777778,
              "#fb9f3a"
             ],
             [
              0.8888888888888888,
              "#fdca26"
             ],
             [
              1,
              "#f0f921"
             ]
            ],
            "type": "contour"
           }
          ],
          "contourcarpet": [
           {
            "colorbar": {
             "outlinewidth": 0,
             "ticks": ""
            },
            "type": "contourcarpet"
           }
          ],
          "heatmap": [
           {
            "colorbar": {
             "outlinewidth": 0,
             "ticks": ""
            },
            "colorscale": [
             [
              0,
              "#0d0887"
             ],
             [
              0.1111111111111111,
              "#46039f"
             ],
             [
              0.2222222222222222,
              "#7201a8"
             ],
             [
              0.3333333333333333,
              "#9c179e"
             ],
             [
              0.4444444444444444,
              "#bd3786"
             ],
             [
              0.5555555555555556,
              "#d8576b"
             ],
             [
              0.6666666666666666,
              "#ed7953"
             ],
             [
              0.7777777777777778,
              "#fb9f3a"
             ],
             [
              0.8888888888888888,
              "#fdca26"
             ],
             [
              1,
              "#f0f921"
             ]
            ],
            "type": "heatmap"
           }
          ],
          "histogram": [
           {
            "marker": {
             "pattern": {
              "fillmode": "overlay",
              "size": 10,
              "solidity": 0.2
             }
            },
            "type": "histogram"
           }
          ],
          "histogram2d": [
           {
            "colorbar": {
             "outlinewidth": 0,
             "ticks": ""
            },
            "colorscale": [
             [
              0,
              "#0d0887"
             ],
             [
              0.1111111111111111,
              "#46039f"
             ],
             [
              0.2222222222222222,
              "#7201a8"
             ],
             [
              0.3333333333333333,
              "#9c179e"
             ],
             [
              0.4444444444444444,
              "#bd3786"
             ],
             [
              0.5555555555555556,
              "#d8576b"
             ],
             [
              0.6666666666666666,
              "#ed7953"
             ],
             [
              0.7777777777777778,
              "#fb9f3a"
             ],
             [
              0.8888888888888888,
              "#fdca26"
             ],
             [
              1,
              "#f0f921"
             ]
            ],
            "type": "histogram2d"
           }
          ],
          "histogram2dcontour": [
           {
            "colorbar": {
             "outlinewidth": 0,
             "ticks": ""
            },
            "colorscale": [
             [
              0,
              "#0d0887"
             ],
             [
              0.1111111111111111,
              "#46039f"
             ],
             [
              0.2222222222222222,
              "#7201a8"
             ],
             [
              0.3333333333333333,
              "#9c179e"
             ],
             [
              0.4444444444444444,
              "#bd3786"
             ],
             [
              0.5555555555555556,
              "#d8576b"
             ],
             [
              0.6666666666666666,
              "#ed7953"
             ],
             [
              0.7777777777777778,
              "#fb9f3a"
             ],
             [
              0.8888888888888888,
              "#fdca26"
             ],
             [
              1,
              "#f0f921"
             ]
            ],
            "type": "histogram2dcontour"
           }
          ],
          "mesh3d": [
           {
            "colorbar": {
             "outlinewidth": 0,
             "ticks": ""
            },
            "type": "mesh3d"
           }
          ],
          "parcoords": [
           {
            "line": {
             "colorbar": {
              "outlinewidth": 0,
              "ticks": ""
             }
            },
            "type": "parcoords"
           }
          ],
          "pie": [
           {
            "automargin": true,
            "type": "pie"
           }
          ],
          "scatter": [
           {
            "fillpattern": {
             "fillmode": "overlay",
             "size": 10,
             "solidity": 0.2
            },
            "type": "scatter"
           }
          ],
          "scatter3d": [
           {
            "line": {
             "colorbar": {
              "outlinewidth": 0,
              "ticks": ""
             }
            },
            "marker": {
             "colorbar": {
              "outlinewidth": 0,
              "ticks": ""
             }
            },
            "type": "scatter3d"
           }
          ],
          "scattercarpet": [
           {
            "marker": {
             "colorbar": {
              "outlinewidth": 0,
              "ticks": ""
             }
            },
            "type": "scattercarpet"
           }
          ],
          "scattergeo": [
           {
            "marker": {
             "colorbar": {
              "outlinewidth": 0,
              "ticks": ""
             }
            },
            "type": "scattergeo"
           }
          ],
          "scattergl": [
           {
            "marker": {
             "colorbar": {
              "outlinewidth": 0,
              "ticks": ""
             }
            },
            "type": "scattergl"
           }
          ],
          "scattermap": [
           {
            "marker": {
             "colorbar": {
              "outlinewidth": 0,
              "ticks": ""
             }
            },
            "type": "scattermap"
           }
          ],
          "scattermapbox": [
           {
            "marker": {
             "colorbar": {
              "outlinewidth": 0,
              "ticks": ""
             }
            },
            "type": "scattermapbox"
           }
          ],
          "scatterpolar": [
           {
            "marker": {
             "colorbar": {
              "outlinewidth": 0,
              "ticks": ""
             }
            },
            "type": "scatterpolar"
           }
          ],
          "scatterpolargl": [
           {
            "marker": {
             "colorbar": {
              "outlinewidth": 0,
              "ticks": ""
             }
            },
            "type": "scatterpolargl"
           }
          ],
          "scatterternary": [
           {
            "marker": {
             "colorbar": {
              "outlinewidth": 0,
              "ticks": ""
             }
            },
            "type": "scatterternary"
           }
          ],
          "surface": [
           {
            "colorbar": {
             "outlinewidth": 0,
             "ticks": ""
            },
            "colorscale": [
             [
              0,
              "#0d0887"
             ],
             [
              0.1111111111111111,
              "#46039f"
             ],
             [
              0.2222222222222222,
              "#7201a8"
             ],
             [
              0.3333333333333333,
              "#9c179e"
             ],
             [
              0.4444444444444444,
              "#bd3786"
             ],
             [
              0.5555555555555556,
              "#d8576b"
             ],
             [
              0.6666666666666666,
              "#ed7953"
             ],
             [
              0.7777777777777778,
              "#fb9f3a"
             ],
             [
              0.8888888888888888,
              "#fdca26"
             ],
             [
              1,
              "#f0f921"
             ]
            ],
            "type": "surface"
           }
          ],
          "table": [
           {
            "cells": {
             "fill": {
              "color": "#EBF0F8"
             },
             "line": {
              "color": "white"
             }
            },
            "header": {
             "fill": {
              "color": "#C8D4E3"
             },
             "line": {
              "color": "white"
             }
            },
            "type": "table"
           }
          ]
         },
         "layout": {
          "annotationdefaults": {
           "arrowcolor": "#2a3f5f",
           "arrowhead": 0,
           "arrowwidth": 1
          },
          "autotypenumbers": "strict",
          "coloraxis": {
           "colorbar": {
            "outlinewidth": 0,
            "ticks": ""
           }
          },
          "colorscale": {
           "diverging": [
            [
             0,
             "#8e0152"
            ],
            [
             0.1,
             "#c51b7d"
            ],
            [
             0.2,
             "#de77ae"
            ],
            [
             0.3,
             "#f1b6da"
            ],
            [
             0.4,
             "#fde0ef"
            ],
            [
             0.5,
             "#f7f7f7"
            ],
            [
             0.6,
             "#e6f5d0"
            ],
            [
             0.7,
             "#b8e186"
            ],
            [
             0.8,
             "#7fbc41"
            ],
            [
             0.9,
             "#4d9221"
            ],
            [
             1,
             "#276419"
            ]
           ],
           "sequential": [
            [
             0,
             "#0d0887"
            ],
            [
             0.1111111111111111,
             "#46039f"
            ],
            [
             0.2222222222222222,
             "#7201a8"
            ],
            [
             0.3333333333333333,
             "#9c179e"
            ],
            [
             0.4444444444444444,
             "#bd3786"
            ],
            [
             0.5555555555555556,
             "#d8576b"
            ],
            [
             0.6666666666666666,
             "#ed7953"
            ],
            [
             0.7777777777777778,
             "#fb9f3a"
            ],
            [
             0.8888888888888888,
             "#fdca26"
            ],
            [
             1,
             "#f0f921"
            ]
           ],
           "sequentialminus": [
            [
             0,
             "#0d0887"
            ],
            [
             0.1111111111111111,
             "#46039f"
            ],
            [
             0.2222222222222222,
             "#7201a8"
            ],
            [
             0.3333333333333333,
             "#9c179e"
            ],
            [
             0.4444444444444444,
             "#bd3786"
            ],
            [
             0.5555555555555556,
             "#d8576b"
            ],
            [
             0.6666666666666666,
             "#ed7953"
            ],
            [
             0.7777777777777778,
             "#fb9f3a"
            ],
            [
             0.8888888888888888,
             "#fdca26"
            ],
            [
             1,
             "#f0f921"
            ]
           ]
          },
          "colorway": [
           "#636efa",
           "#EF553B",
           "#00cc96",
           "#ab63fa",
           "#FFA15A",
           "#19d3f3",
           "#FF6692",
           "#B6E880",
           "#FF97FF",
           "#FECB52"
          ],
          "font": {
           "color": "#2a3f5f"
          },
          "geo": {
           "bgcolor": "white",
           "lakecolor": "white",
           "landcolor": "white",
           "showlakes": true,
           "showland": true,
           "subunitcolor": "#C8D4E3"
          },
          "hoverlabel": {
           "align": "left"
          },
          "hovermode": "closest",
          "mapbox": {
           "style": "light"
          },
          "paper_bgcolor": "white",
          "plot_bgcolor": "white",
          "polar": {
           "angularaxis": {
            "gridcolor": "#EBF0F8",
            "linecolor": "#EBF0F8",
            "ticks": ""
           },
           "bgcolor": "white",
           "radialaxis": {
            "gridcolor": "#EBF0F8",
            "linecolor": "#EBF0F8",
            "ticks": ""
           }
          },
          "scene": {
           "xaxis": {
            "backgroundcolor": "white",
            "gridcolor": "#DFE8F3",
            "gridwidth": 2,
            "linecolor": "#EBF0F8",
            "showbackground": true,
            "ticks": "",
            "zerolinecolor": "#EBF0F8"
           },
           "yaxis": {
            "backgroundcolor": "white",
            "gridcolor": "#DFE8F3",
            "gridwidth": 2,
            "linecolor": "#EBF0F8",
            "showbackground": true,
            "ticks": "",
            "zerolinecolor": "#EBF0F8"
           },
           "zaxis": {
            "backgroundcolor": "white",
            "gridcolor": "#DFE8F3",
            "gridwidth": 2,
            "linecolor": "#EBF0F8",
            "showbackground": true,
            "ticks": "",
            "zerolinecolor": "#EBF0F8"
           }
          },
          "shapedefaults": {
           "line": {
            "color": "#2a3f5f"
           }
          },
          "ternary": {
           "aaxis": {
            "gridcolor": "#DFE8F3",
            "linecolor": "#A2B1C6",
            "ticks": ""
           },
           "baxis": {
            "gridcolor": "#DFE8F3",
            "linecolor": "#A2B1C6",
            "ticks": ""
           },
           "bgcolor": "white",
           "caxis": {
            "gridcolor": "#DFE8F3",
            "linecolor": "#A2B1C6",
            "ticks": ""
           }
          },
          "title": {
           "x": 0.05
          },
          "xaxis": {
           "automargin": true,
           "gridcolor": "#EBF0F8",
           "linecolor": "#EBF0F8",
           "ticks": "",
           "title": {
            "standoff": 15
           },
           "zerolinecolor": "#EBF0F8",
           "zerolinewidth": 2
          },
          "yaxis": {
           "automargin": true,
           "gridcolor": "#EBF0F8",
           "linecolor": "#EBF0F8",
           "ticks": "",
           "title": {
            "standoff": 15
           },
           "zerolinecolor": "#EBF0F8",
           "zerolinewidth": 2
          }
         }
        },
        "title": {
         "font": {
          "color": "Black",
          "size": 22
         },
         "text": "<b>Hierarchical Clustering</b>",
         "x": 0.5,
         "xanchor": "center",
         "yanchor": "top"
        },
        "width": 1000,
        "xaxis": {
         "mirror": "allticks",
         "rangemode": "tozero",
         "showgrid": false,
         "showline": true,
         "showticklabels": true,
         "ticks": "outside",
         "type": "linear",
         "zeroline": false
        },
        "yaxis": {
         "mirror": "allticks",
         "range": [
          -100,
          0
         ],
         "rangemode": "tozero",
         "showgrid": false,
         "showline": true,
         "showticklabels": true,
         "tickmode": "array",
         "ticks": "outside",
         "ticktext": [
          "8_song_lyrics_irish",
          "7_book_orthodox_god",
          "5_anime_tell_did",
          "3_news_latest news_latest",
          "1_price_stock_market",
          "0_ai_best_llm",
          "2_food_water_disease",
          "4_match_team_won",
          "6_vs_battles_style",
          "9_sonic_tails_miles"
         ],
         "tickvals": [
          -5,
          -15,
          -25,
          -35,
          -45,
          -55,
          -65,
          -75,
          -85,
          -95
         ],
         "type": "linear",
         "zeroline": false
        }
       }
      }
     },
     "metadata": {},
     "output_type": "display_data"
    }
   ],
   "source": [
    "topic_model.visualize_hierarchy(custom_labels=True)"
   ]
  },
  {
   "cell_type": "code",
   "execution_count": 171,
   "id": "dbc3f127-ca0f-461e-ab4a-e0428a4485ea",
   "metadata": {},
   "outputs": [],
   "source": [
    "question_topic_df = pd.read_parquet(\"../data/intermediate/question_analysis/question_topics.parquet\")"
   ]
  },
  {
   "cell_type": "code",
   "execution_count": 174,
   "id": "4e41e6ea-1c1b-409b-b016-09dfc38cc1f3",
   "metadata": {},
   "outputs": [],
   "source": [
    "topic_distribution_df = pd.read_parquet(\"../data/intermediate/question_analysis/question_topic_probabilities.parquet\")"
   ]
  },
  {
   "cell_type": "code",
   "execution_count": 173,
   "id": "9abab0d5-5a76-4692-a696-5a1605619998",
   "metadata": {},
   "outputs": [
    {
     "data": {
      "text/plain": [
       "topic\n",
       " 0    5285\n",
       " 1    2019\n",
       " 3    1707\n",
       " 7    1629\n",
       " 5    1498\n",
       " 2    1231\n",
       " 6     980\n",
       " 4     729\n",
       " 8     620\n",
       " 9     498\n",
       "-1       4\n",
       "Name: count, dtype: int64"
      ]
     },
     "execution_count": 173,
     "metadata": {},
     "output_type": "execute_result"
    }
   ],
   "source": [
    "question_topic_df.topic.value_counts()"
   ]
  },
  {
   "cell_type": "code",
   "execution_count": 178,
   "id": "93f59105-b1e5-4f1d-94a9-8f17e144105b",
   "metadata": {},
   "outputs": [],
   "source": [
    "topic_cols = topic_distribution_df.columns[1:]"
   ]
  },
  {
   "cell_type": "code",
   "execution_count": 181,
   "id": "5ad568bc-33f2-43a1-9be6-aa36b67db3d3",
   "metadata": {},
   "outputs": [
    {
     "data": {
      "text/plain": [
       "1.0    8037\n",
       "0.0    4384\n",
       "1.0    1867\n",
       "1.0    1208\n",
       "1.0     639\n",
       "1.0      51\n",
       "1.0      12\n",
       "1.0       2\n",
       "Name: count, dtype: int64"
      ]
     },
     "execution_count": 181,
     "metadata": {},
     "output_type": "execute_result"
    }
   ],
   "source": [
    "topic_distribution_df[topic_cols].sum(axis=1).value_counts()"
   ]
  },
  {
   "cell_type": "code",
   "execution_count": 183,
   "id": "ac8eb84c-77cc-4076-898e-df66f639baa3",
   "metadata": {},
   "outputs": [
    {
     "data": {
      "text/html": [
       "<div>\n",
       "<style scoped>\n",
       "    .dataframe tbody tr th:only-of-type {\n",
       "        vertical-align: middle;\n",
       "    }\n",
       "\n",
       "    .dataframe tbody tr th {\n",
       "        vertical-align: top;\n",
       "    }\n",
       "\n",
       "    .dataframe thead th {\n",
       "        text-align: right;\n",
       "    }\n",
       "</style>\n",
       "<table border=\"1\" class=\"dataframe\">\n",
       "  <thead>\n",
       "    <tr style=\"text-align: right;\">\n",
       "      <th></th>\n",
       "      <th>topic_0_prob</th>\n",
       "      <th>topic_1_prob</th>\n",
       "      <th>topic_2_prob</th>\n",
       "      <th>topic_3_prob</th>\n",
       "      <th>topic_4_prob</th>\n",
       "      <th>topic_5_prob</th>\n",
       "      <th>topic_6_prob</th>\n",
       "      <th>topic_7_prob</th>\n",
       "      <th>topic_8_prob</th>\n",
       "      <th>topic_9_prob</th>\n",
       "    </tr>\n",
       "  </thead>\n",
       "  <tbody>\n",
       "    <tr>\n",
       "      <th>0</th>\n",
       "      <td>0.149179</td>\n",
       "      <td>0.122304</td>\n",
       "      <td>0.105890</td>\n",
       "      <td>0.133161</td>\n",
       "      <td>0.087395</td>\n",
       "      <td>0.127015</td>\n",
       "      <td>0.075390</td>\n",
       "      <td>0.086747</td>\n",
       "      <td>0.112919</td>\n",
       "      <td>0.000000</td>\n",
       "    </tr>\n",
       "    <tr>\n",
       "      <th>1</th>\n",
       "      <td>0.000000</td>\n",
       "      <td>0.000000</td>\n",
       "      <td>0.000000</td>\n",
       "      <td>0.000000</td>\n",
       "      <td>0.000000</td>\n",
       "      <td>0.000000</td>\n",
       "      <td>0.000000</td>\n",
       "      <td>0.000000</td>\n",
       "      <td>0.000000</td>\n",
       "      <td>0.000000</td>\n",
       "    </tr>\n",
       "    <tr>\n",
       "      <th>2</th>\n",
       "      <td>0.000000</td>\n",
       "      <td>0.000000</td>\n",
       "      <td>0.000000</td>\n",
       "      <td>0.000000</td>\n",
       "      <td>0.000000</td>\n",
       "      <td>0.000000</td>\n",
       "      <td>0.000000</td>\n",
       "      <td>0.000000</td>\n",
       "      <td>0.000000</td>\n",
       "      <td>0.000000</td>\n",
       "    </tr>\n",
       "    <tr>\n",
       "      <th>3</th>\n",
       "      <td>0.083978</td>\n",
       "      <td>0.096802</td>\n",
       "      <td>0.087397</td>\n",
       "      <td>0.352823</td>\n",
       "      <td>0.087865</td>\n",
       "      <td>0.077692</td>\n",
       "      <td>0.070845</td>\n",
       "      <td>0.074743</td>\n",
       "      <td>0.067856</td>\n",
       "      <td>0.000000</td>\n",
       "    </tr>\n",
       "    <tr>\n",
       "      <th>4</th>\n",
       "      <td>0.121943</td>\n",
       "      <td>0.113099</td>\n",
       "      <td>0.113612</td>\n",
       "      <td>0.199826</td>\n",
       "      <td>0.100722</td>\n",
       "      <td>0.112318</td>\n",
       "      <td>0.022483</td>\n",
       "      <td>0.078666</td>\n",
       "      <td>0.071368</td>\n",
       "      <td>0.065964</td>\n",
       "    </tr>\n",
       "    <tr>\n",
       "      <th>5</th>\n",
       "      <td>0.000000</td>\n",
       "      <td>0.000000</td>\n",
       "      <td>0.000000</td>\n",
       "      <td>0.000000</td>\n",
       "      <td>0.000000</td>\n",
       "      <td>0.000000</td>\n",
       "      <td>0.000000</td>\n",
       "      <td>0.000000</td>\n",
       "      <td>0.000000</td>\n",
       "      <td>1.000000</td>\n",
       "    </tr>\n",
       "    <tr>\n",
       "      <th>6</th>\n",
       "      <td>0.000000</td>\n",
       "      <td>0.063811</td>\n",
       "      <td>0.128698</td>\n",
       "      <td>0.139608</td>\n",
       "      <td>0.069787</td>\n",
       "      <td>0.059946</td>\n",
       "      <td>0.410158</td>\n",
       "      <td>0.066456</td>\n",
       "      <td>0.000000</td>\n",
       "      <td>0.061537</td>\n",
       "    </tr>\n",
       "    <tr>\n",
       "      <th>7</th>\n",
       "      <td>0.000000</td>\n",
       "      <td>0.063811</td>\n",
       "      <td>0.128698</td>\n",
       "      <td>0.139608</td>\n",
       "      <td>0.069787</td>\n",
       "      <td>0.059946</td>\n",
       "      <td>0.410158</td>\n",
       "      <td>0.066456</td>\n",
       "      <td>0.000000</td>\n",
       "      <td>0.061537</td>\n",
       "    </tr>\n",
       "    <tr>\n",
       "      <th>8</th>\n",
       "      <td>0.114779</td>\n",
       "      <td>0.097524</td>\n",
       "      <td>0.092425</td>\n",
       "      <td>0.192450</td>\n",
       "      <td>0.060717</td>\n",
       "      <td>0.119093</td>\n",
       "      <td>0.060074</td>\n",
       "      <td>0.102628</td>\n",
       "      <td>0.131744</td>\n",
       "      <td>0.028565</td>\n",
       "    </tr>\n",
       "    <tr>\n",
       "      <th>9</th>\n",
       "      <td>0.000000</td>\n",
       "      <td>0.000000</td>\n",
       "      <td>0.000000</td>\n",
       "      <td>0.000000</td>\n",
       "      <td>1.000000</td>\n",
       "      <td>0.000000</td>\n",
       "      <td>0.000000</td>\n",
       "      <td>0.000000</td>\n",
       "      <td>0.000000</td>\n",
       "      <td>0.000000</td>\n",
       "    </tr>\n",
       "  </tbody>\n",
       "</table>\n",
       "</div>"
      ],
      "text/plain": [
       "   topic_0_prob  topic_1_prob  topic_2_prob  topic_3_prob  topic_4_prob  \\\n",
       "0      0.149179      0.122304      0.105890      0.133161      0.087395   \n",
       "1      0.000000      0.000000      0.000000      0.000000      0.000000   \n",
       "2      0.000000      0.000000      0.000000      0.000000      0.000000   \n",
       "3      0.083978      0.096802      0.087397      0.352823      0.087865   \n",
       "4      0.121943      0.113099      0.113612      0.199826      0.100722   \n",
       "5      0.000000      0.000000      0.000000      0.000000      0.000000   \n",
       "6      0.000000      0.063811      0.128698      0.139608      0.069787   \n",
       "7      0.000000      0.063811      0.128698      0.139608      0.069787   \n",
       "8      0.114779      0.097524      0.092425      0.192450      0.060717   \n",
       "9      0.000000      0.000000      0.000000      0.000000      1.000000   \n",
       "\n",
       "   topic_5_prob  topic_6_prob  topic_7_prob  topic_8_prob  topic_9_prob  \n",
       "0      0.127015      0.075390      0.086747      0.112919      0.000000  \n",
       "1      0.000000      0.000000      0.000000      0.000000      0.000000  \n",
       "2      0.000000      0.000000      0.000000      0.000000      0.000000  \n",
       "3      0.077692      0.070845      0.074743      0.067856      0.000000  \n",
       "4      0.112318      0.022483      0.078666      0.071368      0.065964  \n",
       "5      0.000000      0.000000      0.000000      0.000000      1.000000  \n",
       "6      0.059946      0.410158      0.066456      0.000000      0.061537  \n",
       "7      0.059946      0.410158      0.066456      0.000000      0.061537  \n",
       "8      0.119093      0.060074      0.102628      0.131744      0.028565  \n",
       "9      0.000000      0.000000      0.000000      0.000000      0.000000  "
      ]
     },
     "execution_count": 183,
     "metadata": {},
     "output_type": "execute_result"
    }
   ],
   "source": [
    "topic_distribution_df[topic_cols]"
   ]
  },
  {
   "cell_type": "code",
   "execution_count": 186,
   "id": "f5f26aa7-ca32-4e1c-9de5-daa017ec2a3d",
   "metadata": {},
   "outputs": [
    {
     "data": {
      "text/html": [
       "<div>\n",
       "<style scoped>\n",
       "    .dataframe tbody tr th:only-of-type {\n",
       "        vertical-align: middle;\n",
       "    }\n",
       "\n",
       "    .dataframe tbody tr th {\n",
       "        vertical-align: top;\n",
       "    }\n",
       "\n",
       "    .dataframe thead th {\n",
       "        text-align: right;\n",
       "    }\n",
       "</style>\n",
       "<table border=\"1\" class=\"dataframe\">\n",
       "  <thead>\n",
       "    <tr style=\"text-align: right;\">\n",
       "      <th></th>\n",
       "      <th>question_id</th>\n",
       "      <th>topic_0_prob</th>\n",
       "      <th>topic_1_prob</th>\n",
       "      <th>topic_2_prob</th>\n",
       "      <th>topic_3_prob</th>\n",
       "      <th>topic_4_prob</th>\n",
       "      <th>topic_5_prob</th>\n",
       "      <th>topic_6_prob</th>\n",
       "      <th>topic_7_prob</th>\n",
       "      <th>topic_8_prob</th>\n",
       "      <th>topic_9_prob</th>\n",
       "    </tr>\n",
       "  </thead>\n",
       "  <tbody>\n",
       "    <tr>\n",
       "      <th>8099</th>\n",
       "      <td>q_00016337</td>\n",
       "      <td>0.000000</td>\n",
       "      <td>0.0</td>\n",
       "      <td>0.0</td>\n",
       "      <td>0.0</td>\n",
       "      <td>0.0</td>\n",
       "      <td>0.0</td>\n",
       "      <td>0.0</td>\n",
       "      <td>0.000000</td>\n",
       "      <td>0.0</td>\n",
       "      <td>0.0</td>\n",
       "    </tr>\n",
       "    <tr>\n",
       "      <th>7917</th>\n",
       "      <td>q_00016018</td>\n",
       "      <td>0.000000</td>\n",
       "      <td>0.0</td>\n",
       "      <td>0.0</td>\n",
       "      <td>0.0</td>\n",
       "      <td>0.0</td>\n",
       "      <td>0.0</td>\n",
       "      <td>0.0</td>\n",
       "      <td>1.000000</td>\n",
       "      <td>0.0</td>\n",
       "      <td>0.0</td>\n",
       "    </tr>\n",
       "    <tr>\n",
       "      <th>7918</th>\n",
       "      <td>q_00016019</td>\n",
       "      <td>0.000000</td>\n",
       "      <td>0.0</td>\n",
       "      <td>0.0</td>\n",
       "      <td>0.0</td>\n",
       "      <td>0.0</td>\n",
       "      <td>0.0</td>\n",
       "      <td>0.0</td>\n",
       "      <td>1.000000</td>\n",
       "      <td>0.0</td>\n",
       "      <td>0.0</td>\n",
       "    </tr>\n",
       "    <tr>\n",
       "      <th>14129</th>\n",
       "      <td>q_00028703</td>\n",
       "      <td>0.225395</td>\n",
       "      <td>0.0</td>\n",
       "      <td>0.0</td>\n",
       "      <td>0.0</td>\n",
       "      <td>0.0</td>\n",
       "      <td>0.0</td>\n",
       "      <td>0.0</td>\n",
       "      <td>0.774605</td>\n",
       "      <td>0.0</td>\n",
       "      <td>0.0</td>\n",
       "    </tr>\n",
       "    <tr>\n",
       "      <th>14127</th>\n",
       "      <td>q_00028701</td>\n",
       "      <td>0.000000</td>\n",
       "      <td>0.0</td>\n",
       "      <td>0.0</td>\n",
       "      <td>0.0</td>\n",
       "      <td>0.0</td>\n",
       "      <td>0.0</td>\n",
       "      <td>0.0</td>\n",
       "      <td>0.000000</td>\n",
       "      <td>0.0</td>\n",
       "      <td>0.0</td>\n",
       "    </tr>\n",
       "    <tr>\n",
       "      <th>...</th>\n",
       "      <td>...</td>\n",
       "      <td>...</td>\n",
       "      <td>...</td>\n",
       "      <td>...</td>\n",
       "      <td>...</td>\n",
       "      <td>...</td>\n",
       "      <td>...</td>\n",
       "      <td>...</td>\n",
       "      <td>...</td>\n",
       "      <td>...</td>\n",
       "      <td>...</td>\n",
       "    </tr>\n",
       "    <tr>\n",
       "      <th>12205</th>\n",
       "      <td>q_00024838</td>\n",
       "      <td>0.000000</td>\n",
       "      <td>0.0</td>\n",
       "      <td>0.0</td>\n",
       "      <td>0.0</td>\n",
       "      <td>1.0</td>\n",
       "      <td>0.0</td>\n",
       "      <td>0.0</td>\n",
       "      <td>0.000000</td>\n",
       "      <td>0.0</td>\n",
       "      <td>0.0</td>\n",
       "    </tr>\n",
       "    <tr>\n",
       "      <th>3657</th>\n",
       "      <td>q_00007209</td>\n",
       "      <td>0.000000</td>\n",
       "      <td>0.0</td>\n",
       "      <td>0.0</td>\n",
       "      <td>0.0</td>\n",
       "      <td>1.0</td>\n",
       "      <td>0.0</td>\n",
       "      <td>0.0</td>\n",
       "      <td>0.000000</td>\n",
       "      <td>0.0</td>\n",
       "      <td>0.0</td>\n",
       "    </tr>\n",
       "    <tr>\n",
       "      <th>14663</th>\n",
       "      <td>q_00029605</td>\n",
       "      <td>0.000000</td>\n",
       "      <td>0.0</td>\n",
       "      <td>0.0</td>\n",
       "      <td>0.0</td>\n",
       "      <td>1.0</td>\n",
       "      <td>0.0</td>\n",
       "      <td>0.0</td>\n",
       "      <td>0.000000</td>\n",
       "      <td>0.0</td>\n",
       "      <td>0.0</td>\n",
       "    </tr>\n",
       "    <tr>\n",
       "      <th>760</th>\n",
       "      <td>q_00001505</td>\n",
       "      <td>0.000000</td>\n",
       "      <td>0.0</td>\n",
       "      <td>0.0</td>\n",
       "      <td>0.0</td>\n",
       "      <td>1.0</td>\n",
       "      <td>0.0</td>\n",
       "      <td>0.0</td>\n",
       "      <td>0.000000</td>\n",
       "      <td>0.0</td>\n",
       "      <td>0.0</td>\n",
       "    </tr>\n",
       "    <tr>\n",
       "      <th>2375</th>\n",
       "      <td>q_00004698</td>\n",
       "      <td>0.000000</td>\n",
       "      <td>0.0</td>\n",
       "      <td>0.0</td>\n",
       "      <td>0.0</td>\n",
       "      <td>1.0</td>\n",
       "      <td>0.0</td>\n",
       "      <td>0.0</td>\n",
       "      <td>0.000000</td>\n",
       "      <td>0.0</td>\n",
       "      <td>0.0</td>\n",
       "    </tr>\n",
       "  </tbody>\n",
       "</table>\n",
       "<p>16200 rows × 11 columns</p>\n",
       "</div>"
      ],
      "text/plain": [
       "      question_id  topic_0_prob  topic_1_prob  topic_2_prob  topic_3_prob  \\\n",
       "8099   q_00016337      0.000000           0.0           0.0           0.0   \n",
       "7917   q_00016018      0.000000           0.0           0.0           0.0   \n",
       "7918   q_00016019      0.000000           0.0           0.0           0.0   \n",
       "14129  q_00028703      0.225395           0.0           0.0           0.0   \n",
       "14127  q_00028701      0.000000           0.0           0.0           0.0   \n",
       "...           ...           ...           ...           ...           ...   \n",
       "12205  q_00024838      0.000000           0.0           0.0           0.0   \n",
       "3657   q_00007209      0.000000           0.0           0.0           0.0   \n",
       "14663  q_00029605      0.000000           0.0           0.0           0.0   \n",
       "760    q_00001505      0.000000           0.0           0.0           0.0   \n",
       "2375   q_00004698      0.000000           0.0           0.0           0.0   \n",
       "\n",
       "       topic_4_prob  topic_5_prob  topic_6_prob  topic_7_prob  topic_8_prob  \\\n",
       "8099            0.0           0.0           0.0      0.000000           0.0   \n",
       "7917            0.0           0.0           0.0      1.000000           0.0   \n",
       "7918            0.0           0.0           0.0      1.000000           0.0   \n",
       "14129           0.0           0.0           0.0      0.774605           0.0   \n",
       "14127           0.0           0.0           0.0      0.000000           0.0   \n",
       "...             ...           ...           ...           ...           ...   \n",
       "12205           1.0           0.0           0.0      0.000000           0.0   \n",
       "3657            1.0           0.0           0.0      0.000000           0.0   \n",
       "14663           1.0           0.0           0.0      0.000000           0.0   \n",
       "760             1.0           0.0           0.0      0.000000           0.0   \n",
       "2375            1.0           0.0           0.0      0.000000           0.0   \n",
       "\n",
       "       topic_9_prob  \n",
       "8099            0.0  \n",
       "7917            0.0  \n",
       "7918            0.0  \n",
       "14129           0.0  \n",
       "14127           0.0  \n",
       "...             ...  \n",
       "12205           0.0  \n",
       "3657            0.0  \n",
       "14663           0.0  \n",
       "760             0.0  \n",
       "2375            0.0  \n",
       "\n",
       "[16200 rows x 11 columns]"
      ]
     },
     "execution_count": 186,
     "metadata": {},
     "output_type": "execute_result"
    }
   ],
   "source": [
    "topic_distribution_df.sort_values(by=['topic_4_prob'])"
   ]
  },
  {
   "cell_type": "code",
   "execution_count": 190,
   "id": "c6c41e62-9b1f-42cd-8ae6-85eece414852",
   "metadata": {},
   "outputs": [
    {
     "data": {
      "text/plain": [
       "'Because last time you said yes'"
      ]
     },
     "execution_count": 190,
     "metadata": {},
     "output_type": "execute_result"
    }
   ],
   "source": [
    "queries[3657]"
   ]
  }
 ],
 "metadata": {
  "kernelspec": {
   "display_name": "Python 3 (ipykernel)",
   "language": "python",
   "name": "python3"
  },
  "language_info": {
   "codemirror_mode": {
    "name": "ipython",
    "version": 3
   },
   "file_extension": ".py",
   "mimetype": "text/x-python",
   "name": "python",
   "nbconvert_exporter": "python",
   "pygments_lexer": "ipython3",
   "version": "3.12.9"
  }
 },
 "nbformat": 4,
 "nbformat_minor": 5
}
